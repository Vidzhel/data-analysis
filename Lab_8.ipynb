{
  "nbformat": 4,
  "nbformat_minor": 0,
  "metadata": {
    "colab": {
      "provenance": [],
      "authorship_tag": "ABX9TyNYqN8UXtQRoCS1G8iwLZk7",
      "include_colab_link": true
    },
    "kernelspec": {
      "name": "python3",
      "display_name": "Python 3"
    },
    "language_info": {
      "name": "python"
    }
  },
  "cells": [
    {
      "cell_type": "markdown",
      "metadata": {
        "id": "view-in-github",
        "colab_type": "text"
      },
      "source": [
        "<a href=\"https://colab.research.google.com/github/Vidzhel/data-analysis/blob/main/Lab_8.ipynb\" target=\"_parent\"><img src=\"https://colab.research.google.com/assets/colab-badge.svg\" alt=\"Open In Colab\"/></a>"
      ]
    },
    {
      "cell_type": "markdown",
      "source": [
        "## Побудувати модель для прогнозу ціни криптовалюти ефір( ETH )"
      ],
      "metadata": {
        "id": "VIdXB71hTfy0"
      }
    },
    {
      "cell_type": "code",
      "execution_count": 1,
      "metadata": {
        "id": "Q6n93uRkS8Z7"
      },
      "outputs": [],
      "source": [
        "import pandas as pd\n",
        "import numpy as np\n",
        "import matplotlib.pyplot as plt\n",
        "import tensorflow as tf\n",
        "from keras.models import Sequential\n",
        "from keras.layers import Activation, Dense, Dropout, LSTM\n",
        "from sklearn.metrics import mean_squared_error\n",
        "from datetime import datetime"
      ]
    },
    {
      "cell_type": "code",
      "source": [
        "prices_df = pd.read_csv('https://raw.githubusercontent.com/Vidzhel/data-analysis/main/historical_data.csv', sep=',')\n",
        "blockchain_df = pd.read_csv('https://raw.githubusercontent.com/Vidzhel/data-analysis/main/blockchain_data.csv', sep=',')\n",
        "twitter_sentiments = pd.read_csv('https://raw.githubusercontent.com/Vidzhel/data-analysis/main/twitter_sentiments.csv', sep=',')"
      ],
      "metadata": {
        "id": "BeP2s7trUgsU"
      },
      "execution_count": 2,
      "outputs": []
    },
    {
      "cell_type": "code",
      "source": [
        "prices_df.head()"
      ],
      "metadata": {
        "colab": {
          "base_uri": "https://localhost:8080/",
          "height": 206
        },
        "id": "ESRGqDSPgFGI",
        "outputId": "46c10a07-cefd-4ac5-e301-48046c621a16"
      },
      "execution_count": 3,
      "outputs": [
        {
          "output_type": "execute_result",
          "data": {
            "text/plain": [
              "   close_time trading_pair     open    close     high      low     volume  \\\n",
              "0  1678579200      ETHUSDT  1459.68  1471.97  1478.07  1458.38  24802.584   \n",
              "1  1678575600      ETHUSDT  1465.04  1459.69  1468.92  1457.38  19666.553   \n",
              "2  1678572000      ETHUSDT  1466.20  1465.03  1469.19  1457.51  33629.670   \n",
              "3  1678568400      ETHUSDT  1449.22  1466.21  1470.00  1449.21  58938.742   \n",
              "4  1678564800      ETHUSDT  1448.59  1449.22  1452.19  1443.87  27683.530   \n",
              "\n",
              "   trades_amount  \n",
              "0       36371590  \n",
              "1       28770608  \n",
              "2       49195664  \n",
              "3       86078175  \n",
              "4       40074966  "
            ],
            "text/html": [
              "\n",
              "  <div id=\"df-2231e74d-10cd-4cce-a2e9-c94ad7dd73b6\">\n",
              "    <div class=\"colab-df-container\">\n",
              "      <div>\n",
              "<style scoped>\n",
              "    .dataframe tbody tr th:only-of-type {\n",
              "        vertical-align: middle;\n",
              "    }\n",
              "\n",
              "    .dataframe tbody tr th {\n",
              "        vertical-align: top;\n",
              "    }\n",
              "\n",
              "    .dataframe thead th {\n",
              "        text-align: right;\n",
              "    }\n",
              "</style>\n",
              "<table border=\"1\" class=\"dataframe\">\n",
              "  <thead>\n",
              "    <tr style=\"text-align: right;\">\n",
              "      <th></th>\n",
              "      <th>close_time</th>\n",
              "      <th>trading_pair</th>\n",
              "      <th>open</th>\n",
              "      <th>close</th>\n",
              "      <th>high</th>\n",
              "      <th>low</th>\n",
              "      <th>volume</th>\n",
              "      <th>trades_amount</th>\n",
              "    </tr>\n",
              "  </thead>\n",
              "  <tbody>\n",
              "    <tr>\n",
              "      <th>0</th>\n",
              "      <td>1678579200</td>\n",
              "      <td>ETHUSDT</td>\n",
              "      <td>1459.68</td>\n",
              "      <td>1471.97</td>\n",
              "      <td>1478.07</td>\n",
              "      <td>1458.38</td>\n",
              "      <td>24802.584</td>\n",
              "      <td>36371590</td>\n",
              "    </tr>\n",
              "    <tr>\n",
              "      <th>1</th>\n",
              "      <td>1678575600</td>\n",
              "      <td>ETHUSDT</td>\n",
              "      <td>1465.04</td>\n",
              "      <td>1459.69</td>\n",
              "      <td>1468.92</td>\n",
              "      <td>1457.38</td>\n",
              "      <td>19666.553</td>\n",
              "      <td>28770608</td>\n",
              "    </tr>\n",
              "    <tr>\n",
              "      <th>2</th>\n",
              "      <td>1678572000</td>\n",
              "      <td>ETHUSDT</td>\n",
              "      <td>1466.20</td>\n",
              "      <td>1465.03</td>\n",
              "      <td>1469.19</td>\n",
              "      <td>1457.51</td>\n",
              "      <td>33629.670</td>\n",
              "      <td>49195664</td>\n",
              "    </tr>\n",
              "    <tr>\n",
              "      <th>3</th>\n",
              "      <td>1678568400</td>\n",
              "      <td>ETHUSDT</td>\n",
              "      <td>1449.22</td>\n",
              "      <td>1466.21</td>\n",
              "      <td>1470.00</td>\n",
              "      <td>1449.21</td>\n",
              "      <td>58938.742</td>\n",
              "      <td>86078175</td>\n",
              "    </tr>\n",
              "    <tr>\n",
              "      <th>4</th>\n",
              "      <td>1678564800</td>\n",
              "      <td>ETHUSDT</td>\n",
              "      <td>1448.59</td>\n",
              "      <td>1449.22</td>\n",
              "      <td>1452.19</td>\n",
              "      <td>1443.87</td>\n",
              "      <td>27683.530</td>\n",
              "      <td>40074966</td>\n",
              "    </tr>\n",
              "  </tbody>\n",
              "</table>\n",
              "</div>\n",
              "      <button class=\"colab-df-convert\" onclick=\"convertToInteractive('df-2231e74d-10cd-4cce-a2e9-c94ad7dd73b6')\"\n",
              "              title=\"Convert this dataframe to an interactive table.\"\n",
              "              style=\"display:none;\">\n",
              "        \n",
              "  <svg xmlns=\"http://www.w3.org/2000/svg\" height=\"24px\"viewBox=\"0 0 24 24\"\n",
              "       width=\"24px\">\n",
              "    <path d=\"M0 0h24v24H0V0z\" fill=\"none\"/>\n",
              "    <path d=\"M18.56 5.44l.94 2.06.94-2.06 2.06-.94-2.06-.94-.94-2.06-.94 2.06-2.06.94zm-11 1L8.5 8.5l.94-2.06 2.06-.94-2.06-.94L8.5 2.5l-.94 2.06-2.06.94zm10 10l.94 2.06.94-2.06 2.06-.94-2.06-.94-.94-2.06-.94 2.06-2.06.94z\"/><path d=\"M17.41 7.96l-1.37-1.37c-.4-.4-.92-.59-1.43-.59-.52 0-1.04.2-1.43.59L10.3 9.45l-7.72 7.72c-.78.78-.78 2.05 0 2.83L4 21.41c.39.39.9.59 1.41.59.51 0 1.02-.2 1.41-.59l7.78-7.78 2.81-2.81c.8-.78.8-2.07 0-2.86zM5.41 20L4 18.59l7.72-7.72 1.47 1.35L5.41 20z\"/>\n",
              "  </svg>\n",
              "      </button>\n",
              "      \n",
              "  <style>\n",
              "    .colab-df-container {\n",
              "      display:flex;\n",
              "      flex-wrap:wrap;\n",
              "      gap: 12px;\n",
              "    }\n",
              "\n",
              "    .colab-df-convert {\n",
              "      background-color: #E8F0FE;\n",
              "      border: none;\n",
              "      border-radius: 50%;\n",
              "      cursor: pointer;\n",
              "      display: none;\n",
              "      fill: #1967D2;\n",
              "      height: 32px;\n",
              "      padding: 0 0 0 0;\n",
              "      width: 32px;\n",
              "    }\n",
              "\n",
              "    .colab-df-convert:hover {\n",
              "      background-color: #E2EBFA;\n",
              "      box-shadow: 0px 1px 2px rgba(60, 64, 67, 0.3), 0px 1px 3px 1px rgba(60, 64, 67, 0.15);\n",
              "      fill: #174EA6;\n",
              "    }\n",
              "\n",
              "    [theme=dark] .colab-df-convert {\n",
              "      background-color: #3B4455;\n",
              "      fill: #D2E3FC;\n",
              "    }\n",
              "\n",
              "    [theme=dark] .colab-df-convert:hover {\n",
              "      background-color: #434B5C;\n",
              "      box-shadow: 0px 1px 3px 1px rgba(0, 0, 0, 0.15);\n",
              "      filter: drop-shadow(0px 1px 2px rgba(0, 0, 0, 0.3));\n",
              "      fill: #FFFFFF;\n",
              "    }\n",
              "  </style>\n",
              "\n",
              "      <script>\n",
              "        const buttonEl =\n",
              "          document.querySelector('#df-2231e74d-10cd-4cce-a2e9-c94ad7dd73b6 button.colab-df-convert');\n",
              "        buttonEl.style.display =\n",
              "          google.colab.kernel.accessAllowed ? 'block' : 'none';\n",
              "\n",
              "        async function convertToInteractive(key) {\n",
              "          const element = document.querySelector('#df-2231e74d-10cd-4cce-a2e9-c94ad7dd73b6');\n",
              "          const dataTable =\n",
              "            await google.colab.kernel.invokeFunction('convertToInteractive',\n",
              "                                                     [key], {});\n",
              "          if (!dataTable) return;\n",
              "\n",
              "          const docLinkHtml = 'Like what you see? Visit the ' +\n",
              "            '<a target=\"_blank\" href=https://colab.research.google.com/notebooks/data_table.ipynb>data table notebook</a>'\n",
              "            + ' to learn more about interactive tables.';\n",
              "          element.innerHTML = '';\n",
              "          dataTable['output_type'] = 'display_data';\n",
              "          await google.colab.output.renderOutput(dataTable, element);\n",
              "          const docLink = document.createElement('div');\n",
              "          docLink.innerHTML = docLinkHtml;\n",
              "          element.appendChild(docLink);\n",
              "        }\n",
              "      </script>\n",
              "    </div>\n",
              "  </div>\n",
              "  "
            ]
          },
          "metadata": {},
          "execution_count": 3
        }
      ]
    },
    {
      "cell_type": "code",
      "source": [
        "blockchain_df.head()"
      ],
      "metadata": {
        "colab": {
          "base_uri": "https://localhost:8080/",
          "height": 270
        },
        "id": "aON1CVe-gIzk",
        "outputId": "0e00ec8a-6055-4d77-e2e0-26651b3abce2"
      },
      "execution_count": 4,
      "outputs": [
        {
          "output_type": "execute_result",
          "data": {
            "text/plain": [
              "         time ticker blockchain_type  min_value     max_value  average_amount  \\\n",
              "0  1678579200    ETH             ETH        0.0  1.331496e+11    1.591579e+09   \n",
              "1  1678575600    ETH             ETH        0.0  7.618358e+09    2.762103e+08   \n",
              "2  1678572000    ETH             ETH        0.0  5.579591e+10    9.390270e+08   \n",
              "3  1678568400    ETH             ETH        0.0  7.007760e+11    3.214554e+09   \n",
              "4  1678564800    ETH             ETH        0.0  3.158048e+10    5.741246e+08   \n",
              "\n",
              "   average_fee  average_gas_price      gas_used               difficulty  \\\n",
              "0     0.000278          28.301594  1.430367e+07  58750003716598360000000   \n",
              "1     0.000243          32.083941  9.174313e+06  58750003716598360000000   \n",
              "2     0.000339          48.625681  1.457290e+07  58750003716598360000000   \n",
              "3     0.000406          50.012074  1.658236e+07  58750003716598360000000   \n",
              "4     0.000250          41.589516  1.321338e+07  58750003716598360000000   \n",
              "\n",
              "   transaction_amount  \n",
              "0                 110  \n",
              "1                  91  \n",
              "2                 129  \n",
              "3                 133  \n",
              "4                 113  "
            ],
            "text/html": [
              "\n",
              "  <div id=\"df-d8b972d9-0048-40c5-b07c-761dd2f83889\">\n",
              "    <div class=\"colab-df-container\">\n",
              "      <div>\n",
              "<style scoped>\n",
              "    .dataframe tbody tr th:only-of-type {\n",
              "        vertical-align: middle;\n",
              "    }\n",
              "\n",
              "    .dataframe tbody tr th {\n",
              "        vertical-align: top;\n",
              "    }\n",
              "\n",
              "    .dataframe thead th {\n",
              "        text-align: right;\n",
              "    }\n",
              "</style>\n",
              "<table border=\"1\" class=\"dataframe\">\n",
              "  <thead>\n",
              "    <tr style=\"text-align: right;\">\n",
              "      <th></th>\n",
              "      <th>time</th>\n",
              "      <th>ticker</th>\n",
              "      <th>blockchain_type</th>\n",
              "      <th>min_value</th>\n",
              "      <th>max_value</th>\n",
              "      <th>average_amount</th>\n",
              "      <th>average_fee</th>\n",
              "      <th>average_gas_price</th>\n",
              "      <th>gas_used</th>\n",
              "      <th>difficulty</th>\n",
              "      <th>transaction_amount</th>\n",
              "    </tr>\n",
              "  </thead>\n",
              "  <tbody>\n",
              "    <tr>\n",
              "      <th>0</th>\n",
              "      <td>1678579200</td>\n",
              "      <td>ETH</td>\n",
              "      <td>ETH</td>\n",
              "      <td>0.0</td>\n",
              "      <td>1.331496e+11</td>\n",
              "      <td>1.591579e+09</td>\n",
              "      <td>0.000278</td>\n",
              "      <td>28.301594</td>\n",
              "      <td>1.430367e+07</td>\n",
              "      <td>58750003716598360000000</td>\n",
              "      <td>110</td>\n",
              "    </tr>\n",
              "    <tr>\n",
              "      <th>1</th>\n",
              "      <td>1678575600</td>\n",
              "      <td>ETH</td>\n",
              "      <td>ETH</td>\n",
              "      <td>0.0</td>\n",
              "      <td>7.618358e+09</td>\n",
              "      <td>2.762103e+08</td>\n",
              "      <td>0.000243</td>\n",
              "      <td>32.083941</td>\n",
              "      <td>9.174313e+06</td>\n",
              "      <td>58750003716598360000000</td>\n",
              "      <td>91</td>\n",
              "    </tr>\n",
              "    <tr>\n",
              "      <th>2</th>\n",
              "      <td>1678572000</td>\n",
              "      <td>ETH</td>\n",
              "      <td>ETH</td>\n",
              "      <td>0.0</td>\n",
              "      <td>5.579591e+10</td>\n",
              "      <td>9.390270e+08</td>\n",
              "      <td>0.000339</td>\n",
              "      <td>48.625681</td>\n",
              "      <td>1.457290e+07</td>\n",
              "      <td>58750003716598360000000</td>\n",
              "      <td>129</td>\n",
              "    </tr>\n",
              "    <tr>\n",
              "      <th>3</th>\n",
              "      <td>1678568400</td>\n",
              "      <td>ETH</td>\n",
              "      <td>ETH</td>\n",
              "      <td>0.0</td>\n",
              "      <td>7.007760e+11</td>\n",
              "      <td>3.214554e+09</td>\n",
              "      <td>0.000406</td>\n",
              "      <td>50.012074</td>\n",
              "      <td>1.658236e+07</td>\n",
              "      <td>58750003716598360000000</td>\n",
              "      <td>133</td>\n",
              "    </tr>\n",
              "    <tr>\n",
              "      <th>4</th>\n",
              "      <td>1678564800</td>\n",
              "      <td>ETH</td>\n",
              "      <td>ETH</td>\n",
              "      <td>0.0</td>\n",
              "      <td>3.158048e+10</td>\n",
              "      <td>5.741246e+08</td>\n",
              "      <td>0.000250</td>\n",
              "      <td>41.589516</td>\n",
              "      <td>1.321338e+07</td>\n",
              "      <td>58750003716598360000000</td>\n",
              "      <td>113</td>\n",
              "    </tr>\n",
              "  </tbody>\n",
              "</table>\n",
              "</div>\n",
              "      <button class=\"colab-df-convert\" onclick=\"convertToInteractive('df-d8b972d9-0048-40c5-b07c-761dd2f83889')\"\n",
              "              title=\"Convert this dataframe to an interactive table.\"\n",
              "              style=\"display:none;\">\n",
              "        \n",
              "  <svg xmlns=\"http://www.w3.org/2000/svg\" height=\"24px\"viewBox=\"0 0 24 24\"\n",
              "       width=\"24px\">\n",
              "    <path d=\"M0 0h24v24H0V0z\" fill=\"none\"/>\n",
              "    <path d=\"M18.56 5.44l.94 2.06.94-2.06 2.06-.94-2.06-.94-.94-2.06-.94 2.06-2.06.94zm-11 1L8.5 8.5l.94-2.06 2.06-.94-2.06-.94L8.5 2.5l-.94 2.06-2.06.94zm10 10l.94 2.06.94-2.06 2.06-.94-2.06-.94-.94-2.06-.94 2.06-2.06.94z\"/><path d=\"M17.41 7.96l-1.37-1.37c-.4-.4-.92-.59-1.43-.59-.52 0-1.04.2-1.43.59L10.3 9.45l-7.72 7.72c-.78.78-.78 2.05 0 2.83L4 21.41c.39.39.9.59 1.41.59.51 0 1.02-.2 1.41-.59l7.78-7.78 2.81-2.81c.8-.78.8-2.07 0-2.86zM5.41 20L4 18.59l7.72-7.72 1.47 1.35L5.41 20z\"/>\n",
              "  </svg>\n",
              "      </button>\n",
              "      \n",
              "  <style>\n",
              "    .colab-df-container {\n",
              "      display:flex;\n",
              "      flex-wrap:wrap;\n",
              "      gap: 12px;\n",
              "    }\n",
              "\n",
              "    .colab-df-convert {\n",
              "      background-color: #E8F0FE;\n",
              "      border: none;\n",
              "      border-radius: 50%;\n",
              "      cursor: pointer;\n",
              "      display: none;\n",
              "      fill: #1967D2;\n",
              "      height: 32px;\n",
              "      padding: 0 0 0 0;\n",
              "      width: 32px;\n",
              "    }\n",
              "\n",
              "    .colab-df-convert:hover {\n",
              "      background-color: #E2EBFA;\n",
              "      box-shadow: 0px 1px 2px rgba(60, 64, 67, 0.3), 0px 1px 3px 1px rgba(60, 64, 67, 0.15);\n",
              "      fill: #174EA6;\n",
              "    }\n",
              "\n",
              "    [theme=dark] .colab-df-convert {\n",
              "      background-color: #3B4455;\n",
              "      fill: #D2E3FC;\n",
              "    }\n",
              "\n",
              "    [theme=dark] .colab-df-convert:hover {\n",
              "      background-color: #434B5C;\n",
              "      box-shadow: 0px 1px 3px 1px rgba(0, 0, 0, 0.15);\n",
              "      filter: drop-shadow(0px 1px 2px rgba(0, 0, 0, 0.3));\n",
              "      fill: #FFFFFF;\n",
              "    }\n",
              "  </style>\n",
              "\n",
              "      <script>\n",
              "        const buttonEl =\n",
              "          document.querySelector('#df-d8b972d9-0048-40c5-b07c-761dd2f83889 button.colab-df-convert');\n",
              "        buttonEl.style.display =\n",
              "          google.colab.kernel.accessAllowed ? 'block' : 'none';\n",
              "\n",
              "        async function convertToInteractive(key) {\n",
              "          const element = document.querySelector('#df-d8b972d9-0048-40c5-b07c-761dd2f83889');\n",
              "          const dataTable =\n",
              "            await google.colab.kernel.invokeFunction('convertToInteractive',\n",
              "                                                     [key], {});\n",
              "          if (!dataTable) return;\n",
              "\n",
              "          const docLinkHtml = 'Like what you see? Visit the ' +\n",
              "            '<a target=\"_blank\" href=https://colab.research.google.com/notebooks/data_table.ipynb>data table notebook</a>'\n",
              "            + ' to learn more about interactive tables.';\n",
              "          element.innerHTML = '';\n",
              "          dataTable['output_type'] = 'display_data';\n",
              "          await google.colab.output.renderOutput(dataTable, element);\n",
              "          const docLink = document.createElement('div');\n",
              "          docLink.innerHTML = docLinkHtml;\n",
              "          element.appendChild(docLink);\n",
              "        }\n",
              "      </script>\n",
              "    </div>\n",
              "  </div>\n",
              "  "
            ]
          },
          "metadata": {},
          "execution_count": 4
        }
      ]
    },
    {
      "cell_type": "code",
      "source": [
        "twitter_sentiments.head()"
      ],
      "metadata": {
        "colab": {
          "base_uri": "https://localhost:8080/",
          "height": 206
        },
        "id": "W3PapN1HgRzV",
        "outputId": "2846b29c-8749-4545-eba9-0880c8f6467d"
      },
      "execution_count": 5,
      "outputs": [
        {
          "output_type": "execute_result",
          "data": {
            "text/plain": [
              "         time keyword  positive  negative  neutral\n",
              "0  1678579200    #ETH        19         5       72\n",
              "1  1678575600    #ETH        16         4       79\n",
              "2  1678572000    #ETH        15         2      111\n",
              "3  1678568400    #ETH        29         4      111\n",
              "4  1678564800    #ETH        33         4      107"
            ],
            "text/html": [
              "\n",
              "  <div id=\"df-22b8002b-0541-4ae0-a9ab-01b0feaa4be1\">\n",
              "    <div class=\"colab-df-container\">\n",
              "      <div>\n",
              "<style scoped>\n",
              "    .dataframe tbody tr th:only-of-type {\n",
              "        vertical-align: middle;\n",
              "    }\n",
              "\n",
              "    .dataframe tbody tr th {\n",
              "        vertical-align: top;\n",
              "    }\n",
              "\n",
              "    .dataframe thead th {\n",
              "        text-align: right;\n",
              "    }\n",
              "</style>\n",
              "<table border=\"1\" class=\"dataframe\">\n",
              "  <thead>\n",
              "    <tr style=\"text-align: right;\">\n",
              "      <th></th>\n",
              "      <th>time</th>\n",
              "      <th>keyword</th>\n",
              "      <th>positive</th>\n",
              "      <th>negative</th>\n",
              "      <th>neutral</th>\n",
              "    </tr>\n",
              "  </thead>\n",
              "  <tbody>\n",
              "    <tr>\n",
              "      <th>0</th>\n",
              "      <td>1678579200</td>\n",
              "      <td>#ETH</td>\n",
              "      <td>19</td>\n",
              "      <td>5</td>\n",
              "      <td>72</td>\n",
              "    </tr>\n",
              "    <tr>\n",
              "      <th>1</th>\n",
              "      <td>1678575600</td>\n",
              "      <td>#ETH</td>\n",
              "      <td>16</td>\n",
              "      <td>4</td>\n",
              "      <td>79</td>\n",
              "    </tr>\n",
              "    <tr>\n",
              "      <th>2</th>\n",
              "      <td>1678572000</td>\n",
              "      <td>#ETH</td>\n",
              "      <td>15</td>\n",
              "      <td>2</td>\n",
              "      <td>111</td>\n",
              "    </tr>\n",
              "    <tr>\n",
              "      <th>3</th>\n",
              "      <td>1678568400</td>\n",
              "      <td>#ETH</td>\n",
              "      <td>29</td>\n",
              "      <td>4</td>\n",
              "      <td>111</td>\n",
              "    </tr>\n",
              "    <tr>\n",
              "      <th>4</th>\n",
              "      <td>1678564800</td>\n",
              "      <td>#ETH</td>\n",
              "      <td>33</td>\n",
              "      <td>4</td>\n",
              "      <td>107</td>\n",
              "    </tr>\n",
              "  </tbody>\n",
              "</table>\n",
              "</div>\n",
              "      <button class=\"colab-df-convert\" onclick=\"convertToInteractive('df-22b8002b-0541-4ae0-a9ab-01b0feaa4be1')\"\n",
              "              title=\"Convert this dataframe to an interactive table.\"\n",
              "              style=\"display:none;\">\n",
              "        \n",
              "  <svg xmlns=\"http://www.w3.org/2000/svg\" height=\"24px\"viewBox=\"0 0 24 24\"\n",
              "       width=\"24px\">\n",
              "    <path d=\"M0 0h24v24H0V0z\" fill=\"none\"/>\n",
              "    <path d=\"M18.56 5.44l.94 2.06.94-2.06 2.06-.94-2.06-.94-.94-2.06-.94 2.06-2.06.94zm-11 1L8.5 8.5l.94-2.06 2.06-.94-2.06-.94L8.5 2.5l-.94 2.06-2.06.94zm10 10l.94 2.06.94-2.06 2.06-.94-2.06-.94-.94-2.06-.94 2.06-2.06.94z\"/><path d=\"M17.41 7.96l-1.37-1.37c-.4-.4-.92-.59-1.43-.59-.52 0-1.04.2-1.43.59L10.3 9.45l-7.72 7.72c-.78.78-.78 2.05 0 2.83L4 21.41c.39.39.9.59 1.41.59.51 0 1.02-.2 1.41-.59l7.78-7.78 2.81-2.81c.8-.78.8-2.07 0-2.86zM5.41 20L4 18.59l7.72-7.72 1.47 1.35L5.41 20z\"/>\n",
              "  </svg>\n",
              "      </button>\n",
              "      \n",
              "  <style>\n",
              "    .colab-df-container {\n",
              "      display:flex;\n",
              "      flex-wrap:wrap;\n",
              "      gap: 12px;\n",
              "    }\n",
              "\n",
              "    .colab-df-convert {\n",
              "      background-color: #E8F0FE;\n",
              "      border: none;\n",
              "      border-radius: 50%;\n",
              "      cursor: pointer;\n",
              "      display: none;\n",
              "      fill: #1967D2;\n",
              "      height: 32px;\n",
              "      padding: 0 0 0 0;\n",
              "      width: 32px;\n",
              "    }\n",
              "\n",
              "    .colab-df-convert:hover {\n",
              "      background-color: #E2EBFA;\n",
              "      box-shadow: 0px 1px 2px rgba(60, 64, 67, 0.3), 0px 1px 3px 1px rgba(60, 64, 67, 0.15);\n",
              "      fill: #174EA6;\n",
              "    }\n",
              "\n",
              "    [theme=dark] .colab-df-convert {\n",
              "      background-color: #3B4455;\n",
              "      fill: #D2E3FC;\n",
              "    }\n",
              "\n",
              "    [theme=dark] .colab-df-convert:hover {\n",
              "      background-color: #434B5C;\n",
              "      box-shadow: 0px 1px 3px 1px rgba(0, 0, 0, 0.15);\n",
              "      filter: drop-shadow(0px 1px 2px rgba(0, 0, 0, 0.3));\n",
              "      fill: #FFFFFF;\n",
              "    }\n",
              "  </style>\n",
              "\n",
              "      <script>\n",
              "        const buttonEl =\n",
              "          document.querySelector('#df-22b8002b-0541-4ae0-a9ab-01b0feaa4be1 button.colab-df-convert');\n",
              "        buttonEl.style.display =\n",
              "          google.colab.kernel.accessAllowed ? 'block' : 'none';\n",
              "\n",
              "        async function convertToInteractive(key) {\n",
              "          const element = document.querySelector('#df-22b8002b-0541-4ae0-a9ab-01b0feaa4be1');\n",
              "          const dataTable =\n",
              "            await google.colab.kernel.invokeFunction('convertToInteractive',\n",
              "                                                     [key], {});\n",
              "          if (!dataTable) return;\n",
              "\n",
              "          const docLinkHtml = 'Like what you see? Visit the ' +\n",
              "            '<a target=\"_blank\" href=https://colab.research.google.com/notebooks/data_table.ipynb>data table notebook</a>'\n",
              "            + ' to learn more about interactive tables.';\n",
              "          element.innerHTML = '';\n",
              "          dataTable['output_type'] = 'display_data';\n",
              "          await google.colab.output.renderOutput(dataTable, element);\n",
              "          const docLink = document.createElement('div');\n",
              "          docLink.innerHTML = docLinkHtml;\n",
              "          element.appendChild(docLink);\n",
              "        }\n",
              "      </script>\n",
              "    </div>\n",
              "  </div>\n",
              "  "
            ]
          },
          "metadata": {},
          "execution_count": 5
        }
      ]
    },
    {
      "cell_type": "code",
      "source": [
        "def line_plot(train, test, label1 = None, label2 = None, title='', lw=2):\n",
        "  fig, ax = plt.subplots(1, figsize=(13, 7))\n",
        "  if 'time' in train.keys():\n",
        "    ax.plot(train['time'].apply(lambda x: datetime.fromtimestamp(x)), train['close'], label=label1, linewidth=lw)\n",
        "    ax.plot(test['time'].apply(lambda x: datetime.fromtimestamp(x)), test['close'], label=label2, linewidth=lw)\n",
        "  else:\n",
        "    ax.plot(train['close'], label = label1, linewidth = lw)\n",
        "    ax.plot(test['close'], label = label2, linewidth = lw)\n",
        "    ax.set_ylabel('Ціна [USD]', fontsize = 14)\n",
        "    ax.set_title(title, fontsize = 16)\n",
        "    ax.legend(loc='best', fontsize = 16)\n",
        "    plt.show()\n",
        "\n",
        "def plot_result(actual, predicted):\n",
        "  fig, ax = plt.subplots(1, figsize=(13, 7))\n",
        "  ax.plot(actual, label = 'actual', linewidth = 1)\n",
        "  for key in predicted.keys():\n",
        "    ax.plot(predicted[key], label = key, linewidth = 1)\n",
        "    ax.set_ylabel('Ціна [USD]', fontsize = 14)\n",
        "    ax.legend(loc='best', fontsize = 16)\n",
        "    plt.show()"
      ],
      "metadata": {
        "id": "Sno3blzJgZwz"
      },
      "execution_count": 7,
      "outputs": []
    },
    {
      "cell_type": "code",
      "source": [
        "merged_df = pd.merge(pd.merge(blockchain_df, prices_df, left_on = 'time',right_on = 'close_time'), twitter_sentiments, on = 'time')\n",
        "merged_df.sort_values(by=[\"time\"], inplace = True)"
      ],
      "metadata": {
        "id": "W2BL-tI4gkk-"
      },
      "execution_count": 8,
      "outputs": []
    },
    {
      "cell_type": "code",
      "source": [
        "merged_df.info()"
      ],
      "metadata": {
        "colab": {
          "base_uri": "https://localhost:8080/"
        },
        "id": "wmAqSMXfhQOY",
        "outputId": "5bbc5e90-4d8a-468f-8df7-50816a3138ad"
      },
      "execution_count": 9,
      "outputs": [
        {
          "output_type": "stream",
          "name": "stdout",
          "text": [
            "<class 'pandas.core.frame.DataFrame'>\n",
            "Int64Index: 1999 entries, 1998 to 0\n",
            "Data columns (total 23 columns):\n",
            " #   Column              Non-Null Count  Dtype  \n",
            "---  ------              --------------  -----  \n",
            " 0   time                1999 non-null   int64  \n",
            " 1   ticker              1999 non-null   object \n",
            " 2   blockchain_type     1999 non-null   object \n",
            " 3   min_value           1999 non-null   float64\n",
            " 4   max_value           1999 non-null   float64\n",
            " 5   average_amount      1999 non-null   float64\n",
            " 6   average_fee         1999 non-null   float64\n",
            " 7   average_gas_price   1999 non-null   float64\n",
            " 8   gas_used            1999 non-null   float64\n",
            " 9   difficulty          1999 non-null   object \n",
            " 10  transaction_amount  1999 non-null   int64  \n",
            " 11  close_time          1999 non-null   int64  \n",
            " 12  trading_pair        1999 non-null   object \n",
            " 13  open                1999 non-null   float64\n",
            " 14  close               1999 non-null   float64\n",
            " 15  high                1999 non-null   float64\n",
            " 16  low                 1999 non-null   float64\n",
            " 17  volume              1999 non-null   float64\n",
            " 18  trades_amount       1999 non-null   int64  \n",
            " 19  keyword             1999 non-null   object \n",
            " 20  positive            1999 non-null   int64  \n",
            " 21  negative            1999 non-null   int64  \n",
            " 22  neutral             1999 non-null   int64  \n",
            "dtypes: float64(11), int64(7), object(5)\n",
            "memory usage: 374.8+ KB\n"
          ]
        }
      ]
    },
    {
      "cell_type": "code",
      "source": [
        "merged_df.head()"
      ],
      "metadata": {
        "colab": {
          "base_uri": "https://localhost:8080/",
          "height": 299
        },
        "id": "UL-xcPGsg0Rn",
        "outputId": "edbfb98b-e23f-4991-ff0b-5657732534fe"
      },
      "execution_count": 10,
      "outputs": [
        {
          "output_type": "execute_result",
          "data": {
            "text/plain": [
              "            time ticker blockchain_type  min_value     max_value  \\\n",
              "1998  1671382800    ETH             ETH        0.0  4.223955e+10   \n",
              "1997  1671386400    ETH             ETH        0.0  3.935660e+10   \n",
              "1996  1671390000    ETH             ETH        0.0  4.223942e+09   \n",
              "1995  1671393600    ETH             ETH        0.0  1.081238e+10   \n",
              "1994  1671397200    ETH             ETH        0.0  2.654587e+10   \n",
              "\n",
              "      average_amount  average_fee  average_gas_price      gas_used  \\\n",
              "1998    5.866898e+08     0.000223          16.193595  1.504390e+07   \n",
              "1997    6.416365e+08     0.000242          18.271843  1.729403e+07   \n",
              "1996    1.164573e+08     0.000220          17.700974  1.643561e+07   \n",
              "1995    2.211284e+08     0.000228          15.022698  1.561436e+07   \n",
              "1994    3.409944e+08     0.000267          15.822799  1.590551e+07   \n",
              "\n",
              "                   difficulty  ...     open    close     high      low  \\\n",
              "1998  58750003716598360000000  ...  1174.39  1177.62  1178.29  1173.76   \n",
              "1997  58750003716598360000000  ...  1177.61  1178.32  1178.39  1175.84   \n",
              "1996  58750003716598360000000  ...  1178.31  1179.93  1191.08  1175.10   \n",
              "1995  58750003716598360000000  ...  1179.93  1183.56  1183.56  1178.00   \n",
              "1994  58750003716598360000000  ...  1183.55  1185.62  1186.80  1182.78   \n",
              "\n",
              "          volume  trades_amount  keyword  positive  negative neutral  \n",
              "1998   5139.9775        6047430     #ETH        20         2     178  \n",
              "1997   5129.0380        6038929     #ETH        20         1     179  \n",
              "1996  26889.9320       31812067     #ETH        25         0     175  \n",
              "1995   7283.1724        8604464     #ETH        23         4     173  \n",
              "1994   7834.1380        9282575     #ETH        19         1     180  \n",
              "\n",
              "[5 rows x 23 columns]"
            ],
            "text/html": [
              "\n",
              "  <div id=\"df-b857e8a7-edd8-47f5-aebc-e6f2457f56b0\">\n",
              "    <div class=\"colab-df-container\">\n",
              "      <div>\n",
              "<style scoped>\n",
              "    .dataframe tbody tr th:only-of-type {\n",
              "        vertical-align: middle;\n",
              "    }\n",
              "\n",
              "    .dataframe tbody tr th {\n",
              "        vertical-align: top;\n",
              "    }\n",
              "\n",
              "    .dataframe thead th {\n",
              "        text-align: right;\n",
              "    }\n",
              "</style>\n",
              "<table border=\"1\" class=\"dataframe\">\n",
              "  <thead>\n",
              "    <tr style=\"text-align: right;\">\n",
              "      <th></th>\n",
              "      <th>time</th>\n",
              "      <th>ticker</th>\n",
              "      <th>blockchain_type</th>\n",
              "      <th>min_value</th>\n",
              "      <th>max_value</th>\n",
              "      <th>average_amount</th>\n",
              "      <th>average_fee</th>\n",
              "      <th>average_gas_price</th>\n",
              "      <th>gas_used</th>\n",
              "      <th>difficulty</th>\n",
              "      <th>...</th>\n",
              "      <th>open</th>\n",
              "      <th>close</th>\n",
              "      <th>high</th>\n",
              "      <th>low</th>\n",
              "      <th>volume</th>\n",
              "      <th>trades_amount</th>\n",
              "      <th>keyword</th>\n",
              "      <th>positive</th>\n",
              "      <th>negative</th>\n",
              "      <th>neutral</th>\n",
              "    </tr>\n",
              "  </thead>\n",
              "  <tbody>\n",
              "    <tr>\n",
              "      <th>1998</th>\n",
              "      <td>1671382800</td>\n",
              "      <td>ETH</td>\n",
              "      <td>ETH</td>\n",
              "      <td>0.0</td>\n",
              "      <td>4.223955e+10</td>\n",
              "      <td>5.866898e+08</td>\n",
              "      <td>0.000223</td>\n",
              "      <td>16.193595</td>\n",
              "      <td>1.504390e+07</td>\n",
              "      <td>58750003716598360000000</td>\n",
              "      <td>...</td>\n",
              "      <td>1174.39</td>\n",
              "      <td>1177.62</td>\n",
              "      <td>1178.29</td>\n",
              "      <td>1173.76</td>\n",
              "      <td>5139.9775</td>\n",
              "      <td>6047430</td>\n",
              "      <td>#ETH</td>\n",
              "      <td>20</td>\n",
              "      <td>2</td>\n",
              "      <td>178</td>\n",
              "    </tr>\n",
              "    <tr>\n",
              "      <th>1997</th>\n",
              "      <td>1671386400</td>\n",
              "      <td>ETH</td>\n",
              "      <td>ETH</td>\n",
              "      <td>0.0</td>\n",
              "      <td>3.935660e+10</td>\n",
              "      <td>6.416365e+08</td>\n",
              "      <td>0.000242</td>\n",
              "      <td>18.271843</td>\n",
              "      <td>1.729403e+07</td>\n",
              "      <td>58750003716598360000000</td>\n",
              "      <td>...</td>\n",
              "      <td>1177.61</td>\n",
              "      <td>1178.32</td>\n",
              "      <td>1178.39</td>\n",
              "      <td>1175.84</td>\n",
              "      <td>5129.0380</td>\n",
              "      <td>6038929</td>\n",
              "      <td>#ETH</td>\n",
              "      <td>20</td>\n",
              "      <td>1</td>\n",
              "      <td>179</td>\n",
              "    </tr>\n",
              "    <tr>\n",
              "      <th>1996</th>\n",
              "      <td>1671390000</td>\n",
              "      <td>ETH</td>\n",
              "      <td>ETH</td>\n",
              "      <td>0.0</td>\n",
              "      <td>4.223942e+09</td>\n",
              "      <td>1.164573e+08</td>\n",
              "      <td>0.000220</td>\n",
              "      <td>17.700974</td>\n",
              "      <td>1.643561e+07</td>\n",
              "      <td>58750003716598360000000</td>\n",
              "      <td>...</td>\n",
              "      <td>1178.31</td>\n",
              "      <td>1179.93</td>\n",
              "      <td>1191.08</td>\n",
              "      <td>1175.10</td>\n",
              "      <td>26889.9320</td>\n",
              "      <td>31812067</td>\n",
              "      <td>#ETH</td>\n",
              "      <td>25</td>\n",
              "      <td>0</td>\n",
              "      <td>175</td>\n",
              "    </tr>\n",
              "    <tr>\n",
              "      <th>1995</th>\n",
              "      <td>1671393600</td>\n",
              "      <td>ETH</td>\n",
              "      <td>ETH</td>\n",
              "      <td>0.0</td>\n",
              "      <td>1.081238e+10</td>\n",
              "      <td>2.211284e+08</td>\n",
              "      <td>0.000228</td>\n",
              "      <td>15.022698</td>\n",
              "      <td>1.561436e+07</td>\n",
              "      <td>58750003716598360000000</td>\n",
              "      <td>...</td>\n",
              "      <td>1179.93</td>\n",
              "      <td>1183.56</td>\n",
              "      <td>1183.56</td>\n",
              "      <td>1178.00</td>\n",
              "      <td>7283.1724</td>\n",
              "      <td>8604464</td>\n",
              "      <td>#ETH</td>\n",
              "      <td>23</td>\n",
              "      <td>4</td>\n",
              "      <td>173</td>\n",
              "    </tr>\n",
              "    <tr>\n",
              "      <th>1994</th>\n",
              "      <td>1671397200</td>\n",
              "      <td>ETH</td>\n",
              "      <td>ETH</td>\n",
              "      <td>0.0</td>\n",
              "      <td>2.654587e+10</td>\n",
              "      <td>3.409944e+08</td>\n",
              "      <td>0.000267</td>\n",
              "      <td>15.822799</td>\n",
              "      <td>1.590551e+07</td>\n",
              "      <td>58750003716598360000000</td>\n",
              "      <td>...</td>\n",
              "      <td>1183.55</td>\n",
              "      <td>1185.62</td>\n",
              "      <td>1186.80</td>\n",
              "      <td>1182.78</td>\n",
              "      <td>7834.1380</td>\n",
              "      <td>9282575</td>\n",
              "      <td>#ETH</td>\n",
              "      <td>19</td>\n",
              "      <td>1</td>\n",
              "      <td>180</td>\n",
              "    </tr>\n",
              "  </tbody>\n",
              "</table>\n",
              "<p>5 rows × 23 columns</p>\n",
              "</div>\n",
              "      <button class=\"colab-df-convert\" onclick=\"convertToInteractive('df-b857e8a7-edd8-47f5-aebc-e6f2457f56b0')\"\n",
              "              title=\"Convert this dataframe to an interactive table.\"\n",
              "              style=\"display:none;\">\n",
              "        \n",
              "  <svg xmlns=\"http://www.w3.org/2000/svg\" height=\"24px\"viewBox=\"0 0 24 24\"\n",
              "       width=\"24px\">\n",
              "    <path d=\"M0 0h24v24H0V0z\" fill=\"none\"/>\n",
              "    <path d=\"M18.56 5.44l.94 2.06.94-2.06 2.06-.94-2.06-.94-.94-2.06-.94 2.06-2.06.94zm-11 1L8.5 8.5l.94-2.06 2.06-.94-2.06-.94L8.5 2.5l-.94 2.06-2.06.94zm10 10l.94 2.06.94-2.06 2.06-.94-2.06-.94-.94-2.06-.94 2.06-2.06.94z\"/><path d=\"M17.41 7.96l-1.37-1.37c-.4-.4-.92-.59-1.43-.59-.52 0-1.04.2-1.43.59L10.3 9.45l-7.72 7.72c-.78.78-.78 2.05 0 2.83L4 21.41c.39.39.9.59 1.41.59.51 0 1.02-.2 1.41-.59l7.78-7.78 2.81-2.81c.8-.78.8-2.07 0-2.86zM5.41 20L4 18.59l7.72-7.72 1.47 1.35L5.41 20z\"/>\n",
              "  </svg>\n",
              "      </button>\n",
              "      \n",
              "  <style>\n",
              "    .colab-df-container {\n",
              "      display:flex;\n",
              "      flex-wrap:wrap;\n",
              "      gap: 12px;\n",
              "    }\n",
              "\n",
              "    .colab-df-convert {\n",
              "      background-color: #E8F0FE;\n",
              "      border: none;\n",
              "      border-radius: 50%;\n",
              "      cursor: pointer;\n",
              "      display: none;\n",
              "      fill: #1967D2;\n",
              "      height: 32px;\n",
              "      padding: 0 0 0 0;\n",
              "      width: 32px;\n",
              "    }\n",
              "\n",
              "    .colab-df-convert:hover {\n",
              "      background-color: #E2EBFA;\n",
              "      box-shadow: 0px 1px 2px rgba(60, 64, 67, 0.3), 0px 1px 3px 1px rgba(60, 64, 67, 0.15);\n",
              "      fill: #174EA6;\n",
              "    }\n",
              "\n",
              "    [theme=dark] .colab-df-convert {\n",
              "      background-color: #3B4455;\n",
              "      fill: #D2E3FC;\n",
              "    }\n",
              "\n",
              "    [theme=dark] .colab-df-convert:hover {\n",
              "      background-color: #434B5C;\n",
              "      box-shadow: 0px 1px 3px 1px rgba(0, 0, 0, 0.15);\n",
              "      filter: drop-shadow(0px 1px 2px rgba(0, 0, 0, 0.3));\n",
              "      fill: #FFFFFF;\n",
              "    }\n",
              "  </style>\n",
              "\n",
              "      <script>\n",
              "        const buttonEl =\n",
              "          document.querySelector('#df-b857e8a7-edd8-47f5-aebc-e6f2457f56b0 button.colab-df-convert');\n",
              "        buttonEl.style.display =\n",
              "          google.colab.kernel.accessAllowed ? 'block' : 'none';\n",
              "\n",
              "        async function convertToInteractive(key) {\n",
              "          const element = document.querySelector('#df-b857e8a7-edd8-47f5-aebc-e6f2457f56b0');\n",
              "          const dataTable =\n",
              "            await google.colab.kernel.invokeFunction('convertToInteractive',\n",
              "                                                     [key], {});\n",
              "          if (!dataTable) return;\n",
              "\n",
              "          const docLinkHtml = 'Like what you see? Visit the ' +\n",
              "            '<a target=\"_blank\" href=https://colab.research.google.com/notebooks/data_table.ipynb>data table notebook</a>'\n",
              "            + ' to learn more about interactive tables.';\n",
              "          element.innerHTML = '';\n",
              "          dataTable['output_type'] = 'display_data';\n",
              "          await google.colab.output.renderOutput(dataTable, element);\n",
              "          const docLink = document.createElement('div');\n",
              "          docLink.innerHTML = docLinkHtml;\n",
              "          element.appendChild(docLink);\n",
              "        }\n",
              "      </script>\n",
              "    </div>\n",
              "  </div>\n",
              "  "
            ]
          },
          "metadata": {},
          "execution_count": 10
        }
      ]
    },
    {
      "cell_type": "code",
      "source": [
        "merged_df.tail()"
      ],
      "metadata": {
        "colab": {
          "base_uri": "https://localhost:8080/",
          "height": 299
        },
        "id": "Jpi2fla_E4bi",
        "outputId": "a4340ec7-5d21-4e7d-c47b-4a21d9f6b550"
      },
      "execution_count": 33,
      "outputs": [
        {
          "output_type": "execute_result",
          "data": {
            "text/plain": [
              "         time ticker blockchain_type  min_value     max_value  average_amount  \\\n",
              "4  1678564800    ETH             ETH        0.0  3.158048e+10    5.741246e+08   \n",
              "3  1678568400    ETH             ETH        0.0  7.007760e+11    3.214554e+09   \n",
              "2  1678572000    ETH             ETH        0.0  5.579591e+10    9.390270e+08   \n",
              "1  1678575600    ETH             ETH        0.0  7.618358e+09    2.762103e+08   \n",
              "0  1678579200    ETH             ETH        0.0  1.331496e+11    1.591579e+09   \n",
              "\n",
              "   average_fee  average_gas_price      gas_used               difficulty  ...  \\\n",
              "4     0.000250          41.589516  1.321338e+07  58750003716598360000000  ...   \n",
              "3     0.000406          50.012074  1.658236e+07  58750003716598360000000  ...   \n",
              "2     0.000339          48.625681  1.457290e+07  58750003716598360000000  ...   \n",
              "1     0.000243          32.083941  9.174313e+06  58750003716598360000000  ...   \n",
              "0     0.000278          28.301594  1.430367e+07  58750003716598360000000  ...   \n",
              "\n",
              "      open    close     high      low     volume  trades_amount  keyword  \\\n",
              "4  1448.59  1449.22  1452.19  1443.87  27683.530       40074966     #ETH   \n",
              "3  1449.22  1466.21  1470.00  1449.21  58938.742       86078175     #ETH   \n",
              "2  1466.20  1465.03  1469.19  1457.51  33629.670       49195664     #ETH   \n",
              "1  1465.04  1459.69  1468.92  1457.38  19666.553       28770608     #ETH   \n",
              "0  1459.68  1471.97  1478.07  1458.38  24802.584       36371590     #ETH   \n",
              "\n",
              "   positive  negative neutral  \n",
              "4        33         4     107  \n",
              "3        29         4     111  \n",
              "2        15         2     111  \n",
              "1        16         4      79  \n",
              "0        19         5      72  \n",
              "\n",
              "[5 rows x 23 columns]"
            ],
            "text/html": [
              "\n",
              "  <div id=\"df-aead7be6-1915-43d0-9125-62c2d8c08d9c\">\n",
              "    <div class=\"colab-df-container\">\n",
              "      <div>\n",
              "<style scoped>\n",
              "    .dataframe tbody tr th:only-of-type {\n",
              "        vertical-align: middle;\n",
              "    }\n",
              "\n",
              "    .dataframe tbody tr th {\n",
              "        vertical-align: top;\n",
              "    }\n",
              "\n",
              "    .dataframe thead th {\n",
              "        text-align: right;\n",
              "    }\n",
              "</style>\n",
              "<table border=\"1\" class=\"dataframe\">\n",
              "  <thead>\n",
              "    <tr style=\"text-align: right;\">\n",
              "      <th></th>\n",
              "      <th>time</th>\n",
              "      <th>ticker</th>\n",
              "      <th>blockchain_type</th>\n",
              "      <th>min_value</th>\n",
              "      <th>max_value</th>\n",
              "      <th>average_amount</th>\n",
              "      <th>average_fee</th>\n",
              "      <th>average_gas_price</th>\n",
              "      <th>gas_used</th>\n",
              "      <th>difficulty</th>\n",
              "      <th>...</th>\n",
              "      <th>open</th>\n",
              "      <th>close</th>\n",
              "      <th>high</th>\n",
              "      <th>low</th>\n",
              "      <th>volume</th>\n",
              "      <th>trades_amount</th>\n",
              "      <th>keyword</th>\n",
              "      <th>positive</th>\n",
              "      <th>negative</th>\n",
              "      <th>neutral</th>\n",
              "    </tr>\n",
              "  </thead>\n",
              "  <tbody>\n",
              "    <tr>\n",
              "      <th>4</th>\n",
              "      <td>1678564800</td>\n",
              "      <td>ETH</td>\n",
              "      <td>ETH</td>\n",
              "      <td>0.0</td>\n",
              "      <td>3.158048e+10</td>\n",
              "      <td>5.741246e+08</td>\n",
              "      <td>0.000250</td>\n",
              "      <td>41.589516</td>\n",
              "      <td>1.321338e+07</td>\n",
              "      <td>58750003716598360000000</td>\n",
              "      <td>...</td>\n",
              "      <td>1448.59</td>\n",
              "      <td>1449.22</td>\n",
              "      <td>1452.19</td>\n",
              "      <td>1443.87</td>\n",
              "      <td>27683.530</td>\n",
              "      <td>40074966</td>\n",
              "      <td>#ETH</td>\n",
              "      <td>33</td>\n",
              "      <td>4</td>\n",
              "      <td>107</td>\n",
              "    </tr>\n",
              "    <tr>\n",
              "      <th>3</th>\n",
              "      <td>1678568400</td>\n",
              "      <td>ETH</td>\n",
              "      <td>ETH</td>\n",
              "      <td>0.0</td>\n",
              "      <td>7.007760e+11</td>\n",
              "      <td>3.214554e+09</td>\n",
              "      <td>0.000406</td>\n",
              "      <td>50.012074</td>\n",
              "      <td>1.658236e+07</td>\n",
              "      <td>58750003716598360000000</td>\n",
              "      <td>...</td>\n",
              "      <td>1449.22</td>\n",
              "      <td>1466.21</td>\n",
              "      <td>1470.00</td>\n",
              "      <td>1449.21</td>\n",
              "      <td>58938.742</td>\n",
              "      <td>86078175</td>\n",
              "      <td>#ETH</td>\n",
              "      <td>29</td>\n",
              "      <td>4</td>\n",
              "      <td>111</td>\n",
              "    </tr>\n",
              "    <tr>\n",
              "      <th>2</th>\n",
              "      <td>1678572000</td>\n",
              "      <td>ETH</td>\n",
              "      <td>ETH</td>\n",
              "      <td>0.0</td>\n",
              "      <td>5.579591e+10</td>\n",
              "      <td>9.390270e+08</td>\n",
              "      <td>0.000339</td>\n",
              "      <td>48.625681</td>\n",
              "      <td>1.457290e+07</td>\n",
              "      <td>58750003716598360000000</td>\n",
              "      <td>...</td>\n",
              "      <td>1466.20</td>\n",
              "      <td>1465.03</td>\n",
              "      <td>1469.19</td>\n",
              "      <td>1457.51</td>\n",
              "      <td>33629.670</td>\n",
              "      <td>49195664</td>\n",
              "      <td>#ETH</td>\n",
              "      <td>15</td>\n",
              "      <td>2</td>\n",
              "      <td>111</td>\n",
              "    </tr>\n",
              "    <tr>\n",
              "      <th>1</th>\n",
              "      <td>1678575600</td>\n",
              "      <td>ETH</td>\n",
              "      <td>ETH</td>\n",
              "      <td>0.0</td>\n",
              "      <td>7.618358e+09</td>\n",
              "      <td>2.762103e+08</td>\n",
              "      <td>0.000243</td>\n",
              "      <td>32.083941</td>\n",
              "      <td>9.174313e+06</td>\n",
              "      <td>58750003716598360000000</td>\n",
              "      <td>...</td>\n",
              "      <td>1465.04</td>\n",
              "      <td>1459.69</td>\n",
              "      <td>1468.92</td>\n",
              "      <td>1457.38</td>\n",
              "      <td>19666.553</td>\n",
              "      <td>28770608</td>\n",
              "      <td>#ETH</td>\n",
              "      <td>16</td>\n",
              "      <td>4</td>\n",
              "      <td>79</td>\n",
              "    </tr>\n",
              "    <tr>\n",
              "      <th>0</th>\n",
              "      <td>1678579200</td>\n",
              "      <td>ETH</td>\n",
              "      <td>ETH</td>\n",
              "      <td>0.0</td>\n",
              "      <td>1.331496e+11</td>\n",
              "      <td>1.591579e+09</td>\n",
              "      <td>0.000278</td>\n",
              "      <td>28.301594</td>\n",
              "      <td>1.430367e+07</td>\n",
              "      <td>58750003716598360000000</td>\n",
              "      <td>...</td>\n",
              "      <td>1459.68</td>\n",
              "      <td>1471.97</td>\n",
              "      <td>1478.07</td>\n",
              "      <td>1458.38</td>\n",
              "      <td>24802.584</td>\n",
              "      <td>36371590</td>\n",
              "      <td>#ETH</td>\n",
              "      <td>19</td>\n",
              "      <td>5</td>\n",
              "      <td>72</td>\n",
              "    </tr>\n",
              "  </tbody>\n",
              "</table>\n",
              "<p>5 rows × 23 columns</p>\n",
              "</div>\n",
              "      <button class=\"colab-df-convert\" onclick=\"convertToInteractive('df-aead7be6-1915-43d0-9125-62c2d8c08d9c')\"\n",
              "              title=\"Convert this dataframe to an interactive table.\"\n",
              "              style=\"display:none;\">\n",
              "        \n",
              "  <svg xmlns=\"http://www.w3.org/2000/svg\" height=\"24px\"viewBox=\"0 0 24 24\"\n",
              "       width=\"24px\">\n",
              "    <path d=\"M0 0h24v24H0V0z\" fill=\"none\"/>\n",
              "    <path d=\"M18.56 5.44l.94 2.06.94-2.06 2.06-.94-2.06-.94-.94-2.06-.94 2.06-2.06.94zm-11 1L8.5 8.5l.94-2.06 2.06-.94-2.06-.94L8.5 2.5l-.94 2.06-2.06.94zm10 10l.94 2.06.94-2.06 2.06-.94-2.06-.94-.94-2.06-.94 2.06-2.06.94z\"/><path d=\"M17.41 7.96l-1.37-1.37c-.4-.4-.92-.59-1.43-.59-.52 0-1.04.2-1.43.59L10.3 9.45l-7.72 7.72c-.78.78-.78 2.05 0 2.83L4 21.41c.39.39.9.59 1.41.59.51 0 1.02-.2 1.41-.59l7.78-7.78 2.81-2.81c.8-.78.8-2.07 0-2.86zM5.41 20L4 18.59l7.72-7.72 1.47 1.35L5.41 20z\"/>\n",
              "  </svg>\n",
              "      </button>\n",
              "      \n",
              "  <style>\n",
              "    .colab-df-container {\n",
              "      display:flex;\n",
              "      flex-wrap:wrap;\n",
              "      gap: 12px;\n",
              "    }\n",
              "\n",
              "    .colab-df-convert {\n",
              "      background-color: #E8F0FE;\n",
              "      border: none;\n",
              "      border-radius: 50%;\n",
              "      cursor: pointer;\n",
              "      display: none;\n",
              "      fill: #1967D2;\n",
              "      height: 32px;\n",
              "      padding: 0 0 0 0;\n",
              "      width: 32px;\n",
              "    }\n",
              "\n",
              "    .colab-df-convert:hover {\n",
              "      background-color: #E2EBFA;\n",
              "      box-shadow: 0px 1px 2px rgba(60, 64, 67, 0.3), 0px 1px 3px 1px rgba(60, 64, 67, 0.15);\n",
              "      fill: #174EA6;\n",
              "    }\n",
              "\n",
              "    [theme=dark] .colab-df-convert {\n",
              "      background-color: #3B4455;\n",
              "      fill: #D2E3FC;\n",
              "    }\n",
              "\n",
              "    [theme=dark] .colab-df-convert:hover {\n",
              "      background-color: #434B5C;\n",
              "      box-shadow: 0px 1px 3px 1px rgba(0, 0, 0, 0.15);\n",
              "      filter: drop-shadow(0px 1px 2px rgba(0, 0, 0, 0.3));\n",
              "      fill: #FFFFFF;\n",
              "    }\n",
              "  </style>\n",
              "\n",
              "      <script>\n",
              "        const buttonEl =\n",
              "          document.querySelector('#df-aead7be6-1915-43d0-9125-62c2d8c08d9c button.colab-df-convert');\n",
              "        buttonEl.style.display =\n",
              "          google.colab.kernel.accessAllowed ? 'block' : 'none';\n",
              "\n",
              "        async function convertToInteractive(key) {\n",
              "          const element = document.querySelector('#df-aead7be6-1915-43d0-9125-62c2d8c08d9c');\n",
              "          const dataTable =\n",
              "            await google.colab.kernel.invokeFunction('convertToInteractive',\n",
              "                                                     [key], {});\n",
              "          if (!dataTable) return;\n",
              "\n",
              "          const docLinkHtml = 'Like what you see? Visit the ' +\n",
              "            '<a target=\"_blank\" href=https://colab.research.google.com/notebooks/data_table.ipynb>data table notebook</a>'\n",
              "            + ' to learn more about interactive tables.';\n",
              "          element.innerHTML = '';\n",
              "          dataTable['output_type'] = 'display_data';\n",
              "          await google.colab.output.renderOutput(dataTable, element);\n",
              "          const docLink = document.createElement('div');\n",
              "          docLink.innerHTML = docLinkHtml;\n",
              "          element.appendChild(docLink);\n",
              "        }\n",
              "      </script>\n",
              "    </div>\n",
              "  </div>\n",
              "  "
            ]
          },
          "metadata": {},
          "execution_count": 33
        }
      ]
    },
    {
      "cell_type": "code",
      "source": [
        "merged_df.iloc[0].values"
      ],
      "metadata": {
        "colab": {
          "base_uri": "https://localhost:8080/"
        },
        "id": "oyLWGLVViXvA",
        "outputId": "e23b71ef-dff7-4dff-9bd5-128608b2ce6d"
      },
      "execution_count": 11,
      "outputs": [
        {
          "output_type": "execute_result",
          "data": {
            "text/plain": [
              "array([1671382800, 'ETH', 'ETH', 0.0, 42239553106.20467, 586689762.547242,\n",
              "       0.0002226784962797, 16.19359507187728, 15043897.333333334,\n",
              "       '58750003716598360000000', 140, 1671382800, 'ETHUSDT', 1174.39,\n",
              "       1177.62, 1178.29, 1173.76, 5139.9775, 6047430, '#ETH', 20, 2, 178],\n",
              "      dtype=object)"
            ]
          },
          "metadata": {},
          "execution_count": 11
        }
      ]
    },
    {
      "cell_type": "code",
      "source": [
        "def train_test_split(df, test_size = 0.2):\n",
        "  split_row = len(df) - int(test_size * len(df))\n",
        "  train_data = df.iloc[:split_row]\n",
        "  test_data = df.iloc[split_row:]\n",
        "  return train_data, test_data\n",
        "\n",
        "def normalise_zero_base(df):\n",
        "  coefs = df.iloc[0].values\n",
        "  for i in range(len(coefs)):\n",
        "    if coefs[i] == 0:\n",
        "      coefs[i] = 1\n",
        "  return df / coefs - 1\n",
        "\n",
        "def extract_window_data(df, window_len):\n",
        "  window_data = []\n",
        "  for idx in range(len(df) - window_len):\n",
        "    data = normalise_zero_base(df[idx: (idx + window_len)].copy())\n",
        "    window_data.append(data.values)\n",
        "  return np.array(window_data)\n",
        "\n",
        "def prepare_data(df, window_len, test_size = 0.2):\n",
        "  target_col = 'close'\n",
        "  train_data, test_data = train_test_split(df, test_size = test_size)\n",
        "  X_train = extract_window_data(train_data, window_len)\n",
        "  X_test = extract_window_data(test_data, window_len)\n",
        "  y_train = train_data[target_col][window_len:].values\n",
        "  y_test = test_data[target_col][window_len:].values\n",
        "  y_train = y_train / train_data[target_col][:-window_len].values - 1\n",
        "  y_test = y_test / test_data[target_col][:-window_len].values - 1\n",
        "  return train_data, test_data, X_train, X_test, y_train, y_test"
      ],
      "metadata": {
        "id": "1C82o7fqhszW"
      },
      "execution_count": 12,
      "outputs": []
    },
    {
      "cell_type": "code",
      "source": [
        "early_stopping_callback = tf.keras.callbacks.EarlyStopping(patience = 10,restore_best_weights = True)\n",
        "\n",
        "def lr_scheduler(epoch, lr):\n",
        "  if epoch > 0 and epoch % 10 == 0:\n",
        "    return lr * 0.75\n",
        "  return lr\n",
        "\n",
        "lr_scheduler_callback = tf.keras.callbacks.LearningRateScheduler(lr_scheduler)"
      ],
      "metadata": {
        "id": "b9noCLkslMRp"
      },
      "execution_count": 13,
      "outputs": []
    },
    {
      "cell_type": "code",
      "source": [
        "def build_lstm_model(input_data, neurons, dropout, optimizer):\n",
        "  model = Sequential()\n",
        "  model.add(LSTM(neurons, input_shape = (input_data.shape[1], input_data.shape[2])))\n",
        "  model.add(Dropout(dropout))\n",
        "  model.add(Dense(units = 1))\n",
        "  model.add(Activation('linear'))\n",
        "  model.compile(loss = 'mse', optimizer = optimizer)\n",
        "  return model"
      ],
      "metadata": {
        "id": "xJkr8JYplPS4"
      },
      "execution_count": 14,
      "outputs": []
    },
    {
      "cell_type": "code",
      "source": [
        "window_len = 10\n",
        "neurons = 256\n",
        "epochs = 10\n",
        "batch_size = 32\n",
        "dropout = 0.2\n",
        "optimizer = 'adam'\n",
        "df = merged_df[['close']]\n",
        "\n",
        "train, test, X_train, X_test, y_train, y_test = prepare_data(df, window_len)"
      ],
      "metadata": {
        "id": "A6spy6Y4A7rK"
      },
      "execution_count": 96,
      "outputs": []
    },
    {
      "cell_type": "code",
      "source": [
        "import seaborn as sns\n",
        "from sklearn.preprocessing import StandardScaler\n",
        "train_df = pd.DataFrame(train)\n",
        "sns.displot(train_df, kind=\"kde\")\n",
        "sns.displot(pd.DataFrame(y_train), kind=\"kde\")\n",
        "scaler = StandardScaler()\n",
        "scaler.fit(train_df)\n",
        "sns.displot(scaler.transform(train_df), kind=\"kde\")"
      ],
      "metadata": {
        "colab": {
          "base_uri": "https://localhost:8080/",
          "height": 1000
        },
        "id": "wv-NXNHzDI0Q",
        "outputId": "7e7fa3e2-d112-4be1-804b-8c4277b30b5e"
      },
      "execution_count": 32,
      "outputs": [
        {
          "output_type": "execute_result",
          "data": {
            "text/plain": [
              "<seaborn.axisgrid.FacetGrid at 0x7f3152eebdc0>"
            ]
          },
          "metadata": {},
          "execution_count": 32
        },
        {
          "output_type": "display_data",
          "data": {
            "text/plain": [
              "<Figure size 585.625x500 with 1 Axes>"
            ],
            "image/png": "[encoded data removed]"
          },
          "metadata": {}
        },
        {
          "output_type": "display_data",
          "data": {
            "text/plain": [
              "<Figure size 558.75x500 with 1 Axes>"
            ],
            "image/png": "[encoded data removed]"
          },
          "metadata": {}
        },
        {
          "output_type": "display_data",
          "data": {
            "text/plain": [
              "<Figure size 558.75x500 with 1 Axes>"
            ],
            "image/png": "[encoded data removed]"
          },
          "metadata": {}
        }
      ]
    },
    {
      "cell_type": "code",
      "source": [
        "model = build_lstm_model(X_train, neurons, dropout, optimizer)\n",
        "history = model.fit(np.asarray(X_train).astype('float32'), np.asarray(y_train).astype('float32'), epochs = epochs, batch_size = batch_size, shuffle = True, callbacks = [early_stopping_callback, lr_scheduler_callback])"
      ],
      "metadata": {
        "colab": {
          "base_uri": "https://localhost:8080/"
        },
        "id": "1k-9piH9lfbJ",
        "outputId": "245c45e3-95f3-4335-e978-0bd5ef669e77"
      },
      "execution_count": 97,
      "outputs": [
        {
          "output_type": "stream",
          "name": "stdout",
          "text": [
            "Epoch 1/10\n",
            "49/50 [============================>.] - ETA: 0s - loss: 1.9301e-04"
          ]
        },
        {
          "output_type": "stream",
          "name": "stderr",
          "text": [
            "WARNING:tensorflow:Early stopping conditioned on metric `val_loss` which is not available. Available metrics are: loss\n"
          ]
        },
        {
          "output_type": "stream",
          "name": "stdout",
          "text": [
            "\b\b\b\b\b\b\b\b\b\b\b\b\b\b\b\b\b\b\b\b\b\b\b\b\b\b\b\b\b\b\b\b\b\b\b\b\b\b\b\b\b\b\b\b\b\b\b\b\b\b\b\b\b\b\b\b\b\b\b\b\b\b\b\b\b\b\b\r50/50 [==============================] - 4s 34ms/step - loss: 1.9095e-04 - lr: 0.0010\n",
            "Epoch 2/10\n",
            "49/50 [============================>.] - ETA: 0s - loss: 6.7185e-05"
          ]
        },
        {
          "output_type": "stream",
          "name": "stderr",
          "text": [
            "WARNING:tensorflow:Early stopping conditioned on metric `val_loss` which is not available. Available metrics are: loss\n"
          ]
        },
        {
          "output_type": "stream",
          "name": "stdout",
          "text": [
            "\b\b\b\b\b\b\b\b\b\b\b\b\b\b\b\b\b\b\b\b\b\b\b\b\b\b\b\b\b\b\b\b\b\b\b\b\b\b\b\b\b\b\b\b\b\b\b\b\b\b\b\b\b\b\b\b\b\b\b\b\b\b\b\b\b\b\b\r50/50 [==============================] - 2s 46ms/step - loss: 6.6884e-05 - lr: 0.0010\n",
            "Epoch 3/10\n",
            "49/50 [============================>.] - ETA: 0s - loss: 5.1600e-05"
          ]
        },
        {
          "output_type": "stream",
          "name": "stderr",
          "text": [
            "WARNING:tensorflow:Early stopping conditioned on metric `val_loss` which is not available. Available metrics are: loss\n"
          ]
        },
        {
          "output_type": "stream",
          "name": "stdout",
          "text": [
            "\b\b\b\b\b\b\b\b\b\b\b\b\b\b\b\b\b\b\b\b\b\b\b\b\b\b\b\b\b\b\b\b\b\b\b\b\b\b\b\b\b\b\b\b\b\b\b\b\b\b\b\b\b\b\b\b\b\b\b\b\b\b\b\b\b\b\b\r50/50 [==============================] - 1s 29ms/step - loss: 5.1520e-05 - lr: 0.0010\n",
            "Epoch 4/10\n",
            "49/50 [============================>.] - ETA: 0s - loss: 4.5351e-05"
          ]
        },
        {
          "output_type": "stream",
          "name": "stderr",
          "text": [
            "WARNING:tensorflow:Early stopping conditioned on metric `val_loss` which is not available. Available metrics are: loss\n"
          ]
        },
        {
          "output_type": "stream",
          "name": "stdout",
          "text": [
            "\b\b\b\b\b\b\b\b\b\b\b\b\b\b\b\b\b\b\b\b\b\b\b\b\b\b\b\b\b\b\b\b\b\b\b\b\b\b\b\b\b\b\b\b\b\b\b\b\b\b\b\b\b\b\b\b\b\b\b\b\b\b\b\b\b\b\b\r50/50 [==============================] - 1s 30ms/step - loss: 4.5298e-05 - lr: 0.0010\n",
            "Epoch 5/10\n",
            "49/50 [============================>.] - ETA: 0s - loss: 4.3259e-05"
          ]
        },
        {
          "output_type": "stream",
          "name": "stderr",
          "text": [
            "WARNING:tensorflow:Early stopping conditioned on metric `val_loss` which is not available. Available metrics are: loss\n"
          ]
        },
        {
          "output_type": "stream",
          "name": "stdout",
          "text": [
            "\b\b\b\b\b\b\b\b\b\b\b\b\b\b\b\b\b\b\b\b\b\b\b\b\b\b\b\b\b\b\b\b\b\b\b\b\b\b\b\b\b\b\b\b\b\b\b\b\b\b\b\b\b\b\b\b\b\b\b\b\b\b\b\b\b\b\b\r50/50 [==============================] - 1s 30ms/step - loss: 4.3092e-05 - lr: 0.0010\n",
            "Epoch 6/10\n",
            "49/50 [============================>.] - ETA: 0s - loss: 4.1153e-05"
          ]
        },
        {
          "output_type": "stream",
          "name": "stderr",
          "text": [
            "WARNING:tensorflow:Early stopping conditioned on metric `val_loss` which is not available. Available metrics are: loss\n"
          ]
        },
        {
          "output_type": "stream",
          "name": "stdout",
          "text": [
            "\b\b\b\b\b\b\b\b\b\b\b\b\b\b\b\b\b\b\b\b\b\b\b\b\b\b\b\b\b\b\b\b\b\b\b\b\b\b\b\b\b\b\b\b\b\b\b\b\b\b\b\b\b\b\b\b\b\b\b\b\b\b\b\b\b\b\b\r50/50 [==============================] - 1s 29ms/step - loss: 4.0927e-05 - lr: 0.0010\n",
            "Epoch 7/10\n",
            "49/50 [============================>.] - ETA: 0s - loss: 4.0058e-05"
          ]
        },
        {
          "output_type": "stream",
          "name": "stderr",
          "text": [
            "WARNING:tensorflow:Early stopping conditioned on metric `val_loss` which is not available. Available metrics are: loss\n"
          ]
        },
        {
          "output_type": "stream",
          "name": "stdout",
          "text": [
            "\b\b\b\b\b\b\b\b\b\b\b\b\b\b\b\b\b\b\b\b\b\b\b\b\b\b\b\b\b\b\b\b\b\b\b\b\b\b\b\b\b\b\b\b\b\b\b\b\b\b\b\b\b\b\b\b\b\b\b\b\b\b\b\b\b\b\b\r50/50 [==============================] - 1s 30ms/step - loss: 4.0431e-05 - lr: 0.0010\n",
            "Epoch 8/10\n",
            "49/50 [============================>.] - ETA: 0s - loss: 3.9226e-05"
          ]
        },
        {
          "output_type": "stream",
          "name": "stderr",
          "text": [
            "WARNING:tensorflow:Early stopping conditioned on metric `val_loss` which is not available. Available metrics are: loss\n"
          ]
        },
        {
          "output_type": "stream",
          "name": "stdout",
          "text": [
            "\b\b\b\b\b\b\b\b\b\b\b\b\b\b\b\b\b\b\b\b\b\b\b\b\b\b\b\b\b\b\b\b\b\b\b\b\b\b\b\b\b\b\b\b\b\b\b\b\b\b\b\b\b\b\b\b\b\b\b\b\b\b\b\b\b\b\b\r50/50 [==============================] - 2s 30ms/step - loss: 3.8840e-05 - lr: 0.0010\n",
            "Epoch 9/10\n",
            "49/50 [============================>.] - ETA: 0s - loss: 3.6156e-05"
          ]
        },
        {
          "output_type": "stream",
          "name": "stderr",
          "text": [
            "WARNING:tensorflow:Early stopping conditioned on metric `val_loss` which is not available. Available metrics are: loss\n"
          ]
        },
        {
          "output_type": "stream",
          "name": "stdout",
          "text": [
            "\b\b\b\b\b\b\b\b\b\b\b\b\b\b\b\b\b\b\b\b\b\b\b\b\b\b\b\b\b\b\b\b\b\b\b\b\b\b\b\b\b\b\b\b\b\b\b\b\b\b\b\b\b\b\b\b\b\b\b\b\b\b\b\b\b\b\b\r50/50 [==============================] - 2s 36ms/step - loss: 3.6233e-05 - lr: 0.0010\n",
            "Epoch 10/10\n",
            "50/50 [==============================] - ETA: 0s - loss: 3.5919e-05"
          ]
        },
        {
          "output_type": "stream",
          "name": "stderr",
          "text": [
            "WARNING:tensorflow:Early stopping conditioned on metric `val_loss` which is not available. Available metrics are: loss\n"
          ]
        },
        {
          "output_type": "stream",
          "name": "stdout",
          "text": [
            "\b\b\b\b\b\b\b\b\b\b\b\b\b\b\b\b\b\b\b\b\b\b\b\b\b\b\b\b\b\b\b\b\b\b\b\b\b\b\b\b\b\b\b\b\b\b\b\b\b\b\b\b\b\b\b\b\b\b\b\b\b\b\b\b\b\b\b\r50/50 [==============================] - 2s 44ms/step - loss: 3.5919e-05 - lr: 0.0010\n"
          ]
        }
      ]
    },
    {
      "cell_type": "code",
      "source": [
        "targets = test['close'][window_len:]\n",
        "preds = model.predict(X_test).squeeze()\n",
        "print(' MSE:', mean_squared_error(preds, y_test))\n",
        "preds = test['close'].values[window_len:] * (preds + 1)\n",
        "preds = pd.Series(index = targets.index, data = preds)\n",
        "plot_result(targets.values, {'price': preds.values})"
      ],
      "metadata": {
        "colab": {
          "base_uri": "https://localhost:8080/",
          "height": 635
        },
        "id": "oqCqdjjmlwjR",
        "outputId": "690809f1-9af7-4275-b051-7d4ac2e1b7f4"
      },
      "execution_count": 98,
      "outputs": [
        {
          "output_type": "stream",
          "name": "stdout",
          "text": [
            "13/13 [==============================] - 1s 10ms/step\n",
            " MSE: 3.922941585542382e-05\n"
          ]
        },
        {
          "output_type": "display_data",
          "data": {
            "text/plain": [
              "<Figure size 1300x700 with 1 Axes>"
            ],
            "image/png": "[encoded data removed]"
          },
          "metadata": {}
        }
      ]
    },
    {
      "cell_type": "code",
      "source": [
        "from sklearn.metrics import mean_absolute_error\n",
        "print(' MAE:', mean_absolute_error(preds, y_test))"
      ],
      "metadata": {
        "colab": {
          "base_uri": "https://localhost:8080/"
        },
        "id": "os9dFV5mnECz",
        "outputId": "29fd1ed9-66ad-4e50-effd-47164a97bccb"
      },
      "execution_count": 17,
      "outputs": [
        {
          "output_type": "stream",
          "name": "stdout",
          "text": [
            " MAE: 1568.9923298174704\n"
          ]
        }
      ]
    },
    {
      "cell_type": "code",
      "source": [
        "data_props = {\n",
        "'price': ['close'],\n",
        "'historical': ['close', 'open', 'low', 'high', 'volume', 'trades_amount'],\n",
        "'blockchain': ['max_value', 'average_amount', 'average_fee', 'average_gas_price', 'gas_used', 'transaction_amount'],\n",
        "'twitter': ['positive', 'neutral']\n",
        "}\n",
        "data_sets = [['historical'], ['historical', 'blockchain'], ['historical',\n",
        "'twitter'], ['historical', 'blockchain', 'twitter']]\n",
        "\n",
        "targets = test['close'][window_len:]\n",
        "results = {}\n",
        "mse_results = {}\n",
        "for item in data_sets[:4]:\n",
        "  fields = []\n",
        "  for field_type in item:\n",
        "    fields.extend(data_props[field_type])\n",
        "\n",
        "  df = merged_df[fields]\n",
        "  train, test, X_train, X_test, y_train, y_test = prepare_data(df, window_len)\n",
        "  current_model = build_lstm_model(X_train, neurons, dropout, optimizer)\n",
        "  current_model.fit(np.asarray(X_train).astype('float32'), np.asarray(y_train).astype('float32'), epochs = epochs, batch_size = batch_size, shuffle = True, callbacks = [early_stopping_callback, lr_scheduler_callback])\n",
        "  preds = current_model.predict(X_test).squeeze()\n",
        "  key = ', '.join(item)\n",
        "  mse_results[key] = mean_squared_error(preds, y_test)\n",
        "  preds = test['close'][window_len:] * (preds + 1)\n",
        "  preds = pd.Series(index = targets.index, data = preds)\n",
        "  results[key] = preds.values"
      ],
      "metadata": {
        "colab": {
          "base_uri": "https://localhost:8080/"
        },
        "id": "RLasktkjncgp",
        "outputId": "cc862c7c-e747-49f1-c5ad-6c4c26e076f2"
      },
      "execution_count": 18,
      "outputs": [
        {
          "output_type": "stream",
          "name": "stdout",
          "text": [
            "Epoch 1/10\n",
            "50/50 [==============================] - ETA: 0s - loss: 0.0039"
          ]
        },
        {
          "output_type": "stream",
          "name": "stderr",
          "text": [
            "WARNING:tensorflow:Early stopping conditioned on metric `val_loss` which is not available. Available metrics are: loss\n"
          ]
        },
        {
          "output_type": "stream",
          "name": "stdout",
          "text": [
            "\b\b\b\b\b\b\b\b\b\b\b\b\b\b\b\b\b\b\b\b\b\b\b\b\b\b\b\b\b\b\b\b\b\b\b\b\b\b\b\b\b\b\b\b\b\b\b\b\b\b\b\b\b\b\b\b\b\b\b\b\b\b\b\r50/50 [==============================] - 6s 38ms/step - loss: 0.0039 - lr: 0.0010\n",
            "Epoch 2/10\n",
            "49/50 [============================>.] - ETA: 0s - loss: 8.9491e-04"
          ]
        },
        {
          "output_type": "stream",
          "name": "stderr",
          "text": [
            "WARNING:tensorflow:Early stopping conditioned on metric `val_loss` which is not available. Available metrics are: loss\n"
          ]
        },
        {
          "output_type": "stream",
          "name": "stdout",
          "text": [
            "\b\b\b\b\b\b\b\b\b\b\b\b\b\b\b\b\b\b\b\b\b\b\b\b\b\b\b\b\b\b\b\b\b\b\b\b\b\b\b\b\b\b\b\b\b\b\b\b\b\b\b\b\b\b\b\b\b\b\b\b\b\b\b\b\b\b\b\r50/50 [==============================] - 2s 30ms/step - loss: 8.9121e-04 - lr: 0.0010\n",
            "Epoch 3/10\n",
            "49/50 [============================>.] - ETA: 0s - loss: 6.2172e-04"
          ]
        },
        {
          "output_type": "stream",
          "name": "stderr",
          "text": [
            "WARNING:tensorflow:Early stopping conditioned on metric `val_loss` which is not available. Available metrics are: loss\n"
          ]
        },
        {
          "output_type": "stream",
          "name": "stdout",
          "text": [
            "\b\b\b\b\b\b\b\b\b\b\b\b\b\b\b\b\b\b\b\b\b\b\b\b\b\b\b\b\b\b\b\b\b\b\b\b\b\b\b\b\b\b\b\b\b\b\b\b\b\b\b\b\b\b\b\b\b\b\b\b\b\b\b\b\b\b\b\r50/50 [==============================] - 2s 31ms/step - loss: 6.1870e-04 - lr: 0.0010\n",
            "Epoch 4/10\n",
            "49/50 [============================>.] - ETA: 0s - loss: 5.2501e-04"
          ]
        },
        {
          "output_type": "stream",
          "name": "stderr",
          "text": [
            "WARNING:tensorflow:Early stopping conditioned on metric `val_loss` which is not available. Available metrics are: loss\n"
          ]
        },
        {
          "output_type": "stream",
          "name": "stdout",
          "text": [
            "\b\b\b\b\b\b\b\b\b\b\b\b\b\b\b\b\b\b\b\b\b\b\b\b\b\b\b\b\b\b\b\b\b\b\b\b\b\b\b\b\b\b\b\b\b\b\b\b\b\b\b\b\b\b\b\b\b\b\b\b\b\b\b\b\b\b\b\r50/50 [==============================] - 2s 30ms/step - loss: 5.2543e-04 - lr: 0.0010\n",
            "Epoch 5/10\n",
            "49/50 [============================>.] - ETA: 0s - loss: 5.4915e-04"
          ]
        },
        {
          "output_type": "stream",
          "name": "stderr",
          "text": [
            "WARNING:tensorflow:Early stopping conditioned on metric `val_loss` which is not available. Available metrics are: loss\n"
          ]
        },
        {
          "output_type": "stream",
          "name": "stdout",
          "text": [
            "\b\b\b\b\b\b\b\b\b\b\b\b\b\b\b\b\b\b\b\b\b\b\b\b\b\b\b\b\b\b\b\b\b\b\b\b\b\b\b\b\b\b\b\b\b\b\b\b\b\b\b\b\b\b\b\b\b\b\b\b\b\b\b\b\b\b\b\r50/50 [==============================] - 2s 31ms/step - loss: 5.4614e-04 - lr: 0.0010\n",
            "Epoch 6/10\n",
            "49/50 [============================>.] - ETA: 0s - loss: 3.8386e-04"
          ]
        },
        {
          "output_type": "stream",
          "name": "stderr",
          "text": [
            "WARNING:tensorflow:Early stopping conditioned on metric `val_loss` which is not available. Available metrics are: loss\n"
          ]
        },
        {
          "output_type": "stream",
          "name": "stdout",
          "text": [
            "\b\b\b\b\b\b\b\b\b\b\b\b\b\b\b\b\b\b\b\b\b\b\b\b\b\b\b\b\b\b\b\b\b\b\b\b\b\b\b\b\b\b\b\b\b\b\b\b\b\b\b\b\b\b\b\b\b\b\b\b\b\b\b\b\b\b\b\r50/50 [==============================] - 2s 30ms/step - loss: 3.8602e-04 - lr: 0.0010\n",
            "Epoch 7/10\n",
            "50/50 [==============================] - ETA: 0s - loss: 2.9514e-04"
          ]
        },
        {
          "output_type": "stream",
          "name": "stderr",
          "text": [
            "WARNING:tensorflow:Early stopping conditioned on metric `val_loss` which is not available. Available metrics are: loss\n"
          ]
        },
        {
          "output_type": "stream",
          "name": "stdout",
          "text": [
            "\b\b\b\b\b\b\b\b\b\b\b\b\b\b\b\b\b\b\b\b\b\b\b\b\b\b\b\b\b\b\b\b\b\b\b\b\b\b\b\b\b\b\b\b\b\b\b\b\b\b\b\b\b\b\b\b\b\b\b\b\b\b\b\b\b\b\b\r50/50 [==============================] - 2s 34ms/step - loss: 2.9514e-04 - lr: 0.0010\n",
            "Epoch 8/10\n",
            "49/50 [============================>.] - ETA: 0s - loss: 3.0075e-04"
          ]
        },
        {
          "output_type": "stream",
          "name": "stderr",
          "text": [
            "WARNING:tensorflow:Early stopping conditioned on metric `val_loss` which is not available. Available metrics are: loss\n"
          ]
        },
        {
          "output_type": "stream",
          "name": "stdout",
          "text": [
            "\b\b\b\b\b\b\b\b\b\b\b\b\b\b\b\b\b\b\b\b\b\b\b\b\b\b\b\b\b\b\b\b\b\b\b\b\b\b\b\b\b\b\b\b\b\b\b\b\b\b\b\b\b\b\b\b\b\b\b\b\b\b\b\b\b\b\b\r50/50 [==============================] - 2s 46ms/step - loss: 2.9787e-04 - lr: 0.0010\n",
            "Epoch 9/10\n",
            "49/50 [============================>.] - ETA: 0s - loss: 1.9164e-04"
          ]
        },
        {
          "output_type": "stream",
          "name": "stderr",
          "text": [
            "WARNING:tensorflow:Early stopping conditioned on metric `val_loss` which is not available. Available metrics are: loss\n"
          ]
        },
        {
          "output_type": "stream",
          "name": "stdout",
          "text": [
            "\b\b\b\b\b\b\b\b\b\b\b\b\b\b\b\b\b\b\b\b\b\b\b\b\b\b\b\b\b\b\b\b\b\b\b\b\b\b\b\b\b\b\b\b\b\b\b\b\b\b\b\b\b\b\b\b\b\b\b\b\b\b\b\b\b\b\b\r50/50 [==============================] - 2s 31ms/step - loss: 1.9327e-04 - lr: 0.0010\n",
            "Epoch 10/10\n",
            "49/50 [============================>.] - ETA: 0s - loss: 2.0959e-04"
          ]
        },
        {
          "output_type": "stream",
          "name": "stderr",
          "text": [
            "WARNING:tensorflow:Early stopping conditioned on metric `val_loss` which is not available. Available metrics are: loss\n"
          ]
        },
        {
          "output_type": "stream",
          "name": "stdout",
          "text": [
            "50/50 [==============================] - 2s 30ms/step - loss: 2.0849e-04 - lr: 0.0010\n",
            "13/13 [==============================] - 1s 10ms/step\n",
            "Epoch 1/10\n",
            "49/50 [============================>.] - ETA: 0s - loss: 0.0175"
          ]
        },
        {
          "output_type": "stream",
          "name": "stderr",
          "text": [
            "WARNING:tensorflow:Early stopping conditioned on metric `val_loss` which is not available. Available metrics are: loss\n"
          ]
        },
        {
          "output_type": "stream",
          "name": "stdout",
          "text": [
            "\b\b\b\b\b\b\b\b\b\b\b\b\b\b\b\b\b\b\b\b\b\b\b\b\b\b\b\b\b\b\b\b\b\b\b\b\b\b\b\b\b\b\b\b\b\b\b\b\b\b\b\b\b\b\b\b\b\b\b\b\b\b\b\r50/50 [==============================] - 4s 31ms/step - loss: 0.0174 - lr: 0.0010\n",
            "Epoch 2/10\n",
            "49/50 [============================>.] - ETA: 0s - loss: 0.0056"
          ]
        },
        {
          "output_type": "stream",
          "name": "stderr",
          "text": [
            "WARNING:tensorflow:Early stopping conditioned on metric `val_loss` which is not available. Available metrics are: loss\n"
          ]
        },
        {
          "output_type": "stream",
          "name": "stdout",
          "text": [
            "\b\b\b\b\b\b\b\b\b\b\b\b\b\b\b\b\b\b\b\b\b\b\b\b\b\b\b\b\b\b\b\b\b\b\b\b\b\b\b\b\b\b\b\b\b\b\b\b\b\b\b\b\b\b\b\b\b\b\b\b\b\b\b\r50/50 [==============================] - 2s 44ms/step - loss: 0.0056 - lr: 0.0010\n",
            "Epoch 3/10\n",
            "50/50 [==============================] - ETA: 0s - loss: 0.0038"
          ]
        },
        {
          "output_type": "stream",
          "name": "stderr",
          "text": [
            "WARNING:tensorflow:Early stopping conditioned on metric `val_loss` which is not available. Available metrics are: loss\n"
          ]
        },
        {
          "output_type": "stream",
          "name": "stdout",
          "text": [
            "\b\b\b\b\b\b\b\b\b\b\b\b\b\b\b\b\b\b\b\b\b\b\b\b\b\b\b\b\b\b\b\b\b\b\b\b\b\b\b\b\b\b\b\b\b\b\b\b\b\b\b\b\b\b\b\b\b\b\b\b\b\b\b\r50/50 [==============================] - 2s 36ms/step - loss: 0.0038 - lr: 0.0010\n",
            "Epoch 4/10\n",
            "49/50 [============================>.] - ETA: 0s - loss: 0.0036"
          ]
        },
        {
          "output_type": "stream",
          "name": "stderr",
          "text": [
            "WARNING:tensorflow:Early stopping conditioned on metric `val_loss` which is not available. Available metrics are: loss\n"
          ]
        },
        {
          "output_type": "stream",
          "name": "stdout",
          "text": [
            "\b\b\b\b\b\b\b\b\b\b\b\b\b\b\b\b\b\b\b\b\b\b\b\b\b\b\b\b\b\b\b\b\b\b\b\b\b\b\b\b\b\b\b\b\b\b\b\b\b\b\b\b\b\b\b\b\b\b\b\b\b\b\b\r50/50 [==============================] - 2s 30ms/step - loss: 0.0036 - lr: 0.0010\n",
            "Epoch 5/10\n",
            "49/50 [============================>.] - ETA: 0s - loss: 0.0028"
          ]
        },
        {
          "output_type": "stream",
          "name": "stderr",
          "text": [
            "WARNING:tensorflow:Early stopping conditioned on metric `val_loss` which is not available. Available metrics are: loss\n"
          ]
        },
        {
          "output_type": "stream",
          "name": "stdout",
          "text": [
            "\b\b\b\b\b\b\b\b\b\b\b\b\b\b\b\b\b\b\b\b\b\b\b\b\b\b\b\b\b\b\b\b\b\b\b\b\b\b\b\b\b\b\b\b\b\b\b\b\b\b\b\b\b\b\b\b\b\b\b\b\b\b\b\r50/50 [==============================] - 2s 31ms/step - loss: 0.0028 - lr: 0.0010\n",
            "Epoch 6/10\n",
            "50/50 [==============================] - ETA: 0s - loss: 0.0023"
          ]
        },
        {
          "output_type": "stream",
          "name": "stderr",
          "text": [
            "WARNING:tensorflow:Early stopping conditioned on metric `val_loss` which is not available. Available metrics are: loss\n"
          ]
        },
        {
          "output_type": "stream",
          "name": "stdout",
          "text": [
            "\b\b\b\b\b\b\b\b\b\b\b\b\b\b\b\b\b\b\b\b\b\b\b\b\b\b\b\b\b\b\b\b\b\b\b\b\b\b\b\b\b\b\b\b\b\b\b\b\b\b\b\b\b\b\b\b\b\b\b\b\b\b\b\r50/50 [==============================] - 2s 31ms/step - loss: 0.0023 - lr: 0.0010\n",
            "Epoch 7/10\n",
            "49/50 [============================>.] - ETA: 0s - loss: 0.0016"
          ]
        },
        {
          "output_type": "stream",
          "name": "stderr",
          "text": [
            "WARNING:tensorflow:Early stopping conditioned on metric `val_loss` which is not available. Available metrics are: loss\n"
          ]
        },
        {
          "output_type": "stream",
          "name": "stdout",
          "text": [
            "\b\b\b\b\b\b\b\b\b\b\b\b\b\b\b\b\b\b\b\b\b\b\b\b\b\b\b\b\b\b\b\b\b\b\b\b\b\b\b\b\b\b\b\b\b\b\b\b\b\b\b\b\b\b\b\b\b\b\b\b\b\b\b\r50/50 [==============================] - 2s 31ms/step - loss: 0.0015 - lr: 0.0010\n",
            "Epoch 8/10\n",
            "49/50 [============================>.] - ETA: 0s - loss: 0.0014"
          ]
        },
        {
          "output_type": "stream",
          "name": "stderr",
          "text": [
            "WARNING:tensorflow:Early stopping conditioned on metric `val_loss` which is not available. Available metrics are: loss\n"
          ]
        },
        {
          "output_type": "stream",
          "name": "stdout",
          "text": [
            "\b\b\b\b\b\b\b\b\b\b\b\b\b\b\b\b\b\b\b\b\b\b\b\b\b\b\b\b\b\b\b\b\b\b\b\b\b\b\b\b\b\b\b\b\b\b\b\b\b\b\b\b\b\b\b\b\b\b\b\b\b\b\b\r50/50 [==============================] - 2s 31ms/step - loss: 0.0015 - lr: 0.0010\n",
            "Epoch 9/10\n",
            "50/50 [==============================] - ETA: 0s - loss: 0.0012"
          ]
        },
        {
          "output_type": "stream",
          "name": "stderr",
          "text": [
            "WARNING:tensorflow:Early stopping conditioned on metric `val_loss` which is not available. Available metrics are: loss\n"
          ]
        },
        {
          "output_type": "stream",
          "name": "stdout",
          "text": [
            "\b\b\b\b\b\b\b\b\b\b\b\b\b\b\b\b\b\b\b\b\b\b\b\b\b\b\b\b\b\b\b\b\b\b\b\b\b\b\b\b\b\b\b\b\b\b\b\b\b\b\b\b\b\b\b\b\b\b\b\b\b\b\b\r50/50 [==============================] - 2s 33ms/step - loss: 0.0012 - lr: 0.0010\n",
            "Epoch 10/10\n",
            "50/50 [==============================] - ETA: 0s - loss: 8.3268e-04"
          ]
        },
        {
          "output_type": "stream",
          "name": "stderr",
          "text": [
            "WARNING:tensorflow:Early stopping conditioned on metric `val_loss` which is not available. Available metrics are: loss\n"
          ]
        },
        {
          "output_type": "stream",
          "name": "stdout",
          "text": [
            "50/50 [==============================] - 2s 48ms/step - loss: 8.3268e-04 - lr: 0.0010\n",
            "13/13 [==============================] - 1s 8ms/step\n",
            "Epoch 1/10\n",
            "49/50 [============================>.] - ETA: 0s - loss: 0.0037"
          ]
        },
        {
          "output_type": "stream",
          "name": "stderr",
          "text": [
            "WARNING:tensorflow:Early stopping conditioned on metric `val_loss` which is not available. Available metrics are: loss\n"
          ]
        },
        {
          "output_type": "stream",
          "name": "stdout",
          "text": [
            "\b\b\b\b\b\b\b\b\b\b\b\b\b\b\b\b\b\b\b\b\b\b\b\b\b\b\b\b\b\b\b\b\b\b\b\b\b\b\b\b\b\b\b\b\b\b\b\b\b\b\b\b\b\b\b\b\b\b\b\b\b\b\b\r50/50 [==============================] - 4s 31ms/step - loss: 0.0037 - lr: 0.0010\n",
            "Epoch 2/10\n",
            "49/50 [============================>.] - ETA: 0s - loss: 0.0022"
          ]
        },
        {
          "output_type": "stream",
          "name": "stderr",
          "text": [
            "WARNING:tensorflow:Early stopping conditioned on metric `val_loss` which is not available. Available metrics are: loss\n"
          ]
        },
        {
          "output_type": "stream",
          "name": "stdout",
          "text": [
            "\b\b\b\b\b\b\b\b\b\b\b\b\b\b\b\b\b\b\b\b\b\b\b\b\b\b\b\b\b\b\b\b\b\b\b\b\b\b\b\b\b\b\b\b\b\b\b\b\b\b\b\b\b\b\b\b\b\b\b\b\b\b\b\r50/50 [==============================] - 2s 36ms/step - loss: 0.0022 - lr: 0.0010\n",
            "Epoch 3/10\n",
            "50/50 [==============================] - ETA: 0s - loss: 0.0025"
          ]
        },
        {
          "output_type": "stream",
          "name": "stderr",
          "text": [
            "WARNING:tensorflow:Early stopping conditioned on metric `val_loss` which is not available. Available metrics are: loss\n"
          ]
        },
        {
          "output_type": "stream",
          "name": "stdout",
          "text": [
            "\b\b\b\b\b\b\b\b\b\b\b\b\b\b\b\b\b\b\b\b\b\b\b\b\b\b\b\b\b\b\b\b\b\b\b\b\b\b\b\b\b\b\b\b\b\b\b\b\b\b\b\b\b\b\b\b\b\b\b\b\b\b\b\r50/50 [==============================] - 2s 45ms/step - loss: 0.0025 - lr: 0.0010\n",
            "Epoch 4/10\n",
            "49/50 [============================>.] - ETA: 0s - loss: 0.0013"
          ]
        },
        {
          "output_type": "stream",
          "name": "stderr",
          "text": [
            "WARNING:tensorflow:Early stopping conditioned on metric `val_loss` which is not available. Available metrics are: loss\n"
          ]
        },
        {
          "output_type": "stream",
          "name": "stdout",
          "text": [
            "\b\b\b\b\b\b\b\b\b\b\b\b\b\b\b\b\b\b\b\b\b\b\b\b\b\b\b\b\b\b\b\b\b\b\b\b\b\b\b\b\b\b\b\b\b\b\b\b\b\b\b\b\b\b\b\b\b\b\b\b\b\b\b\r50/50 [==============================] - 2s 30ms/step - loss: 0.0014 - lr: 0.0010\n",
            "Epoch 5/10\n",
            "49/50 [============================>.] - ETA: 0s - loss: 0.0016"
          ]
        },
        {
          "output_type": "stream",
          "name": "stderr",
          "text": [
            "WARNING:tensorflow:Early stopping conditioned on metric `val_loss` which is not available. Available metrics are: loss\n"
          ]
        },
        {
          "output_type": "stream",
          "name": "stdout",
          "text": [
            "\b\b\b\b\b\b\b\b\b\b\b\b\b\b\b\b\b\b\b\b\b\b\b\b\b\b\b\b\b\b\b\b\b\b\b\b\b\b\b\b\b\b\b\b\b\b\b\b\b\b\b\b\b\b\b\b\b\b\b\b\b\b\b\r50/50 [==============================] - 2s 31ms/step - loss: 0.0016 - lr: 0.0010\n",
            "Epoch 6/10\n",
            "49/50 [============================>.] - ETA: 0s - loss: 0.0013"
          ]
        },
        {
          "output_type": "stream",
          "name": "stderr",
          "text": [
            "WARNING:tensorflow:Early stopping conditioned on metric `val_loss` which is not available. Available metrics are: loss\n"
          ]
        },
        {
          "output_type": "stream",
          "name": "stdout",
          "text": [
            "\b\b\b\b\b\b\b\b\b\b\b\b\b\b\b\b\b\b\b\b\b\b\b\b\b\b\b\b\b\b\b\b\b\b\b\b\b\b\b\b\b\b\b\b\b\b\b\b\b\b\b\b\b\b\b\b\b\b\b\b\b\b\b\r50/50 [==============================] - 2s 31ms/step - loss: 0.0013 - lr: 0.0010\n",
            "Epoch 7/10\n",
            "49/50 [============================>.] - ETA: 0s - loss: 0.0010"
          ]
        },
        {
          "output_type": "stream",
          "name": "stderr",
          "text": [
            "WARNING:tensorflow:Early stopping conditioned on metric `val_loss` which is not available. Available metrics are: loss\n"
          ]
        },
        {
          "output_type": "stream",
          "name": "stdout",
          "text": [
            "\b\b\b\b\b\b\b\b\b\b\b\b\b\b\b\b\b\b\b\b\b\b\b\b\b\b\b\b\b\b\b\b\b\b\b\b\b\b\b\b\b\b\b\b\b\b\b\b\b\b\b\b\b\b\b\b\b\b\b\b\b\b\b\r50/50 [==============================] - 2s 30ms/step - loss: 0.0010 - lr: 0.0010\n",
            "Epoch 8/10\n",
            "49/50 [============================>.] - ETA: 0s - loss: 9.5995e-04"
          ]
        },
        {
          "output_type": "stream",
          "name": "stderr",
          "text": [
            "WARNING:tensorflow:Early stopping conditioned on metric `val_loss` which is not available. Available metrics are: loss\n"
          ]
        },
        {
          "output_type": "stream",
          "name": "stdout",
          "text": [
            "\b\b\b\b\b\b\b\b\b\b\b\b\b\b\b\b\b\b\b\b\b\b\b\b\b\b\b\b\b\b\b\b\b\b\b\b\b\b\b\b\b\b\b\b\b\b\b\b\b\b\b\b\b\b\b\b\b\b\b\b\b\b\b\b\b\b\b\r50/50 [==============================] - 2s 30ms/step - loss: 9.4895e-04 - lr: 0.0010\n",
            "Epoch 9/10\n",
            "49/50 [============================>.] - ETA: 0s - loss: 7.7775e-04"
          ]
        },
        {
          "output_type": "stream",
          "name": "stderr",
          "text": [
            "WARNING:tensorflow:Early stopping conditioned on metric `val_loss` which is not available. Available metrics are: loss\n"
          ]
        },
        {
          "output_type": "stream",
          "name": "stdout",
          "text": [
            "\b\b\b\b\b\b\b\b\b\b\b\b\b\b\b\b\b\b\b\b\b\b\b\b\b\b\b\b\b\b\b\b\b\b\b\b\b\b\b\b\b\b\b\b\b\b\b\b\b\b\b\b\b\b\b\b\b\b\b\b\b\b\b\b\b\b\b\r50/50 [==============================] - 2s 31ms/step - loss: 7.6840e-04 - lr: 0.0010\n",
            "Epoch 10/10\n",
            "50/50 [==============================] - ETA: 0s - loss: 6.1906e-04"
          ]
        },
        {
          "output_type": "stream",
          "name": "stderr",
          "text": [
            "WARNING:tensorflow:Early stopping conditioned on metric `val_loss` which is not available. Available metrics are: loss\n"
          ]
        },
        {
          "output_type": "stream",
          "name": "stdout",
          "text": [
            "50/50 [==============================] - 2s 41ms/step - loss: 6.1906e-04 - lr: 0.0010\n",
            "13/13 [==============================] - 1s 16ms/step\n",
            "Epoch 1/10\n",
            "49/50 [============================>.] - ETA: 0s - loss: 0.0161"
          ]
        },
        {
          "output_type": "stream",
          "name": "stderr",
          "text": [
            "WARNING:tensorflow:Early stopping conditioned on metric `val_loss` which is not available. Available metrics are: loss\n"
          ]
        },
        {
          "output_type": "stream",
          "name": "stdout",
          "text": [
            "\b\b\b\b\b\b\b\b\b\b\b\b\b\b\b\b\b\b\b\b\b\b\b\b\b\b\b\b\b\b\b\b\b\b\b\b\b\b\b\b\b\b\b\b\b\b\b\b\b\b\b\b\b\b\b\b\b\b\b\b\b\b\b\r50/50 [==============================] - 4s 30ms/step - loss: 0.0159 - lr: 0.0010\n",
            "Epoch 2/10\n",
            "49/50 [============================>.] - ETA: 0s - loss: 0.0068"
          ]
        },
        {
          "output_type": "stream",
          "name": "stderr",
          "text": [
            "WARNING:tensorflow:Early stopping conditioned on metric `val_loss` which is not available. Available metrics are: loss\n"
          ]
        },
        {
          "output_type": "stream",
          "name": "stdout",
          "text": [
            "\b\b\b\b\b\b\b\b\b\b\b\b\b\b\b\b\b\b\b\b\b\b\b\b\b\b\b\b\b\b\b\b\b\b\b\b\b\b\b\b\b\b\b\b\b\b\b\b\b\b\b\b\b\b\b\b\b\b\b\b\b\b\b\r50/50 [==============================] - 2s 31ms/step - loss: 0.0067 - lr: 0.0010\n",
            "Epoch 3/10\n",
            "49/50 [============================>.] - ETA: 0s - loss: 0.0057"
          ]
        },
        {
          "output_type": "stream",
          "name": "stderr",
          "text": [
            "WARNING:tensorflow:Early stopping conditioned on metric `val_loss` which is not available. Available metrics are: loss\n"
          ]
        },
        {
          "output_type": "stream",
          "name": "stdout",
          "text": [
            "\b\b\b\b\b\b\b\b\b\b\b\b\b\b\b\b\b\b\b\b\b\b\b\b\b\b\b\b\b\b\b\b\b\b\b\b\b\b\b\b\b\b\b\b\b\b\b\b\b\b\b\b\b\b\b\b\b\b\b\b\b\b\b\r50/50 [==============================] - 2s 31ms/step - loss: 0.0056 - lr: 0.0010\n",
            "Epoch 4/10\n",
            "49/50 [============================>.] - ETA: 0s - loss: 0.0038"
          ]
        },
        {
          "output_type": "stream",
          "name": "stderr",
          "text": [
            "WARNING:tensorflow:Early stopping conditioned on metric `val_loss` which is not available. Available metrics are: loss\n"
          ]
        },
        {
          "output_type": "stream",
          "name": "stdout",
          "text": [
            "\b\b\b\b\b\b\b\b\b\b\b\b\b\b\b\b\b\b\b\b\b\b\b\b\b\b\b\b\b\b\b\b\b\b\b\b\b\b\b\b\b\b\b\b\b\b\b\b\b\b\b\b\b\b\b\b\b\b\b\b\b\b\b\r50/50 [==============================] - 2s 41ms/step - loss: 0.0038 - lr: 0.0010\n",
            "Epoch 5/10\n",
            "49/50 [============================>.] - ETA: 0s - loss: 0.0034"
          ]
        },
        {
          "output_type": "stream",
          "name": "stderr",
          "text": [
            "WARNING:tensorflow:Early stopping conditioned on metric `val_loss` which is not available. Available metrics are: loss\n"
          ]
        },
        {
          "output_type": "stream",
          "name": "stdout",
          "text": [
            "\b\b\b\b\b\b\b\b\b\b\b\b\b\b\b\b\b\b\b\b\b\b\b\b\b\b\b\b\b\b\b\b\b\b\b\b\b\b\b\b\b\b\b\b\b\b\b\b\b\b\b\b\b\b\b\b\b\b\b\b\b\b\b\r50/50 [==============================] - 2s 41ms/step - loss: 0.0034 - lr: 0.0010\n",
            "Epoch 6/10\n",
            "49/50 [============================>.] - ETA: 0s - loss: 0.0022"
          ]
        },
        {
          "output_type": "stream",
          "name": "stderr",
          "text": [
            "WARNING:tensorflow:Early stopping conditioned on metric `val_loss` which is not available. Available metrics are: loss\n"
          ]
        },
        {
          "output_type": "stream",
          "name": "stdout",
          "text": [
            "\b\b\b\b\b\b\b\b\b\b\b\b\b\b\b\b\b\b\b\b\b\b\b\b\b\b\b\b\b\b\b\b\b\b\b\b\b\b\b\b\b\b\b\b\b\b\b\b\b\b\b\b\b\b\b\b\b\b\b\b\b\b\b\r50/50 [==============================] - 2s 31ms/step - loss: 0.0022 - lr: 0.0010\n",
            "Epoch 7/10\n",
            "49/50 [============================>.] - ETA: 0s - loss: 0.0022"
          ]
        },
        {
          "output_type": "stream",
          "name": "stderr",
          "text": [
            "WARNING:tensorflow:Early stopping conditioned on metric `val_loss` which is not available. Available metrics are: loss\n"
          ]
        },
        {
          "output_type": "stream",
          "name": "stdout",
          "text": [
            "\b\b\b\b\b\b\b\b\b\b\b\b\b\b\b\b\b\b\b\b\b\b\b\b\b\b\b\b\b\b\b\b\b\b\b\b\b\b\b\b\b\b\b\b\b\b\b\b\b\b\b\b\b\b\b\b\b\b\b\b\b\b\b\r50/50 [==============================] - 2s 31ms/step - loss: 0.0021 - lr: 0.0010\n",
            "Epoch 8/10\n",
            "49/50 [============================>.] - ETA: 0s - loss: 0.0024"
          ]
        },
        {
          "output_type": "stream",
          "name": "stderr",
          "text": [
            "WARNING:tensorflow:Early stopping conditioned on metric `val_loss` which is not available. Available metrics are: loss\n"
          ]
        },
        {
          "output_type": "stream",
          "name": "stdout",
          "text": [
            "\b\b\b\b\b\b\b\b\b\b\b\b\b\b\b\b\b\b\b\b\b\b\b\b\b\b\b\b\b\b\b\b\b\b\b\b\b\b\b\b\b\b\b\b\b\b\b\b\b\b\b\b\b\b\b\b\b\b\b\b\b\b\b\r50/50 [==============================] - 2s 31ms/step - loss: 0.0026 - lr: 0.0010\n",
            "Epoch 9/10\n",
            "49/50 [============================>.] - ETA: 0s - loss: 0.0018"
          ]
        },
        {
          "output_type": "stream",
          "name": "stderr",
          "text": [
            "WARNING:tensorflow:Early stopping conditioned on metric `val_loss` which is not available. Available metrics are: loss\n"
          ]
        },
        {
          "output_type": "stream",
          "name": "stdout",
          "text": [
            "\b\b\b\b\b\b\b\b\b\b\b\b\b\b\b\b\b\b\b\b\b\b\b\b\b\b\b\b\b\b\b\b\b\b\b\b\b\b\b\b\b\b\b\b\b\b\b\b\b\b\b\b\b\b\b\b\b\b\b\b\b\b\b\r50/50 [==============================] - 2s 31ms/step - loss: 0.0018 - lr: 0.0010\n",
            "Epoch 10/10\n",
            "49/50 [============================>.] - ETA: 0s - loss: 0.0013"
          ]
        },
        {
          "output_type": "stream",
          "name": "stderr",
          "text": [
            "WARNING:tensorflow:Early stopping conditioned on metric `val_loss` which is not available. Available metrics are: loss\n"
          ]
        },
        {
          "output_type": "stream",
          "name": "stdout",
          "text": [
            "50/50 [==============================] - 2s 31ms/step - loss: 0.0013 - lr: 0.0010\n",
            "13/13 [==============================] - 1s 9ms/step\n"
          ]
        }
      ]
    },
    {
      "cell_type": "code",
      "source": [
        "plot_result(targets.values, results)"
      ],
      "metadata": {
        "colab": {
          "base_uri": "https://localhost:8080/",
          "height": 599
        },
        "id": "p1-GjUXwofxy",
        "outputId": "84df8c5f-0a67-441a-89eb-c5640ab7c176"
      },
      "execution_count": 19,
      "outputs": [
        {
          "output_type": "display_data",
          "data": {
            "text/plain": [
              "<Figure size 1300x700 with 1 Axes>"
            ],
            "image/png": "[encoded data removed]"
          },
          "metadata": {}
        }
      ]
    },
    {
      "cell_type": "code",
      "source": [
        "rating = sorted(mse_results.items(), key = lambda x: x[1])\n",
        "for item in rating:\n",
        "  print(item[0], '-', item[1])"
      ],
      "metadata": {
        "id": "_3TdWcn7ol6q",
        "outputId": "54d33a41-afef-4d59-d702-56e71d7e65fe",
        "colab": {
          "base_uri": "https://localhost:8080/"
        }
      },
      "execution_count": 20,
      "outputs": [
        {
          "output_type": "stream",
          "name": "stdout",
          "text": [
            "historical - 5.6073449142571825e-05\n",
            "historical, blockchain - 0.00017427889881201558\n",
            "historical, twitter - 0.00021676585909112281\n",
            "historical, blockchain, twitter - 0.0002712944654165693\n"
          ]
        }
      ]
    },
    {
      "cell_type": "markdown",
      "source": [
        "Якщо зважати на середню квадратичну помилку, то комбінація historical, twitter дає найкращий результат,"
      ],
      "metadata": {
        "id": "UGvnV5Yh_EeA"
      }
    },
    {
      "cell_type": "markdown",
      "source": [
        "## Bitcoin"
      ],
      "metadata": {
        "id": "FfdIqyQiZPin"
      }
    },
    {
      "cell_type": "code",
      "source": [
        "df = pd.read_csv('https://raw.githubusercontent.com/Vidzhel/data-analysis/main/bitcoin.csv', sep=',')"
      ],
      "metadata": {
        "id": "9SxKJtbxMix_"
      },
      "execution_count": 91,
      "outputs": []
    },
    {
      "cell_type": "code",
      "source": [
        "df.info()"
      ],
      "metadata": {
        "colab": {
          "base_uri": "https://localhost:8080/"
        },
        "id": "33m4rCDeMsBb",
        "outputId": "f3b0bd50-3ecc-4f54-ee49-9a6e5caef343"
      },
      "execution_count": 92,
      "outputs": [
        {
          "output_type": "stream",
          "name": "stdout",
          "text": [
            "<class 'pandas.core.frame.DataFrame'>\n",
            "RangeIndex: 10000 entries, 0 to 9999\n",
            "Data columns (total 9 columns):\n",
            " #   Column             Non-Null Count  Dtype  \n",
            "---  ------             --------------  -----  \n",
            " 0   Unnamed: 0         10000 non-null  int64  \n",
            " 1   Timestamp          10000 non-null  int64  \n",
            " 2   Open               10000 non-null  float64\n",
            " 3   High               10000 non-null  float64\n",
            " 4   Low                10000 non-null  float64\n",
            " 5   close              10000 non-null  float64\n",
            " 6   Volume_(BTC)       10000 non-null  float64\n",
            " 7   Volume_(Currency)  10000 non-null  float64\n",
            " 8   Weighted_Price     10000 non-null  float64\n",
            "dtypes: float64(7), int64(2)\n",
            "memory usage: 703.2 KB\n"
          ]
        }
      ]
    },
    {
      "cell_type": "code",
      "source": [
        "df.describe()"
      ],
      "metadata": {
        "colab": {
          "base_uri": "https://localhost:8080/",
          "height": 300
        },
        "id": "q-3WS2bpMtup",
        "outputId": "d8cd7d7e-8898-4146-954f-bdd5c21b9b3e"
      },
      "execution_count": 93,
      "outputs": [
        {
          "output_type": "execute_result",
          "data": {
            "text/plain": [
              "          Unnamed: 0     Timestamp          Open          High           Low  \\\n",
              "count   10000.000000  1.000000e+04  10000.000000  10000.000000  10000.000000   \n",
              "mean   231161.315500  1.339188e+09      7.436651      7.440225      7.432439   \n",
              "std     88443.786251  5.306627e+06      2.553450      2.556626      2.548851   \n",
              "min         0.000000  1.325318e+09      3.800000      3.800000      3.800000   \n",
              "25%    178732.500000  1.336042e+09      5.190000      5.190000      5.190000   \n",
              "50%    257916.500000  1.340793e+09      6.540000      6.550000      6.540000   \n",
              "75%    299829.750000  1.343308e+09      8.860000      8.860000      8.852500   \n",
              "max    334299.000000  1.345376e+09     16.410000     16.410000     15.490000   \n",
              "\n",
              "              close  Volume_(BTC)  Volume_(Currency)  Weighted_Price  \n",
              "count  10000.000000  10000.000000       10000.000000    10000.000000  \n",
              "mean       7.435966     20.461003         149.852163        7.436461  \n",
              "std        2.551795     58.111951         423.988937        2.553138  \n",
              "min        3.800000      0.000000           0.000000        3.800000  \n",
              "25%        5.190000      2.000000          12.629405        5.190000  \n",
              "50%        6.540000      6.428862          44.757569        6.540000  \n",
              "75%        8.860000     19.990000         137.369726        8.860000  \n",
              "max       16.000000   2285.000000       14852.500000       16.386568  "
            ],
            "text/html": [
              "\n",
              "  <div id=\"df-b04d76df-d9a5-4e9f-9084-60aa8a1c3249\">\n",
              "    <div class=\"colab-df-container\">\n",
              "      <div>\n",
              "<style scoped>\n",
              "    .dataframe tbody tr th:only-of-type {\n",
              "        vertical-align: middle;\n",
              "    }\n",
              "\n",
              "    .dataframe tbody tr th {\n",
              "        vertical-align: top;\n",
              "    }\n",
              "\n",
              "    .dataframe thead th {\n",
              "        text-align: right;\n",
              "    }\n",
              "</style>\n",
              "<table border=\"1\" class=\"dataframe\">\n",
              "  <thead>\n",
              "    <tr style=\"text-align: right;\">\n",
              "      <th></th>\n",
              "      <th>Unnamed: 0</th>\n",
              "      <th>Timestamp</th>\n",
              "      <th>Open</th>\n",
              "      <th>High</th>\n",
              "      <th>Low</th>\n",
              "      <th>close</th>\n",
              "      <th>Volume_(BTC)</th>\n",
              "      <th>Volume_(Currency)</th>\n",
              "      <th>Weighted_Price</th>\n",
              "    </tr>\n",
              "  </thead>\n",
              "  <tbody>\n",
              "    <tr>\n",
              "      <th>count</th>\n",
              "      <td>10000.000000</td>\n",
              "      <td>1.000000e+04</td>\n",
              "      <td>10000.000000</td>\n",
              "      <td>10000.000000</td>\n",
              "      <td>10000.000000</td>\n",
              "      <td>10000.000000</td>\n",
              "      <td>10000.000000</td>\n",
              "      <td>10000.000000</td>\n",
              "      <td>10000.000000</td>\n",
              "    </tr>\n",
              "    <tr>\n",
              "      <th>mean</th>\n",
              "      <td>231161.315500</td>\n",
              "      <td>1.339188e+09</td>\n",
              "      <td>7.436651</td>\n",
              "      <td>7.440225</td>\n",
              "      <td>7.432439</td>\n",
              "      <td>7.435966</td>\n",
              "      <td>20.461003</td>\n",
              "      <td>149.852163</td>\n",
              "      <td>7.436461</td>\n",
              "    </tr>\n",
              "    <tr>\n",
              "      <th>std</th>\n",
              "      <td>88443.786251</td>\n",
              "      <td>5.306627e+06</td>\n",
              "      <td>2.553450</td>\n",
              "      <td>2.556626</td>\n",
              "      <td>2.548851</td>\n",
              "      <td>2.551795</td>\n",
              "      <td>58.111951</td>\n",
              "      <td>423.988937</td>\n",
              "      <td>2.553138</td>\n",
              "    </tr>\n",
              "    <tr>\n",
              "      <th>min</th>\n",
              "      <td>0.000000</td>\n",
              "      <td>1.325318e+09</td>\n",
              "      <td>3.800000</td>\n",
              "      <td>3.800000</td>\n",
              "      <td>3.800000</td>\n",
              "      <td>3.800000</td>\n",
              "      <td>0.000000</td>\n",
              "      <td>0.000000</td>\n",
              "      <td>3.800000</td>\n",
              "    </tr>\n",
              "    <tr>\n",
              "      <th>25%</th>\n",
              "      <td>178732.500000</td>\n",
              "      <td>1.336042e+09</td>\n",
              "      <td>5.190000</td>\n",
              "      <td>5.190000</td>\n",
              "      <td>5.190000</td>\n",
              "      <td>5.190000</td>\n",
              "      <td>2.000000</td>\n",
              "      <td>12.629405</td>\n",
              "      <td>5.190000</td>\n",
              "    </tr>\n",
              "    <tr>\n",
              "      <th>50%</th>\n",
              "      <td>257916.500000</td>\n",
              "      <td>1.340793e+09</td>\n",
              "      <td>6.540000</td>\n",
              "      <td>6.550000</td>\n",
              "      <td>6.540000</td>\n",
              "      <td>6.540000</td>\n",
              "      <td>6.428862</td>\n",
              "      <td>44.757569</td>\n",
              "      <td>6.540000</td>\n",
              "    </tr>\n",
              "    <tr>\n",
              "      <th>75%</th>\n",
              "      <td>299829.750000</td>\n",
              "      <td>1.343308e+09</td>\n",
              "      <td>8.860000</td>\n",
              "      <td>8.860000</td>\n",
              "      <td>8.852500</td>\n",
              "      <td>8.860000</td>\n",
              "      <td>19.990000</td>\n",
              "      <td>137.369726</td>\n",
              "      <td>8.860000</td>\n",
              "    </tr>\n",
              "    <tr>\n",
              "      <th>max</th>\n",
              "      <td>334299.000000</td>\n",
              "      <td>1.345376e+09</td>\n",
              "      <td>16.410000</td>\n",
              "      <td>16.410000</td>\n",
              "      <td>15.490000</td>\n",
              "      <td>16.000000</td>\n",
              "      <td>2285.000000</td>\n",
              "      <td>14852.500000</td>\n",
              "      <td>16.386568</td>\n",
              "    </tr>\n",
              "  </tbody>\n",
              "</table>\n",
              "</div>\n",
              "      <button class=\"colab-df-convert\" onclick=\"convertToInteractive('df-b04d76df-d9a5-4e9f-9084-60aa8a1c3249')\"\n",
              "              title=\"Convert this dataframe to an interactive table.\"\n",
              "              style=\"display:none;\">\n",
              "        \n",
              "  <svg xmlns=\"http://www.w3.org/2000/svg\" height=\"24px\"viewBox=\"0 0 24 24\"\n",
              "       width=\"24px\">\n",
              "    <path d=\"M0 0h24v24H0V0z\" fill=\"none\"/>\n",
              "    <path d=\"M18.56 5.44l.94 2.06.94-2.06 2.06-.94-2.06-.94-.94-2.06-.94 2.06-2.06.94zm-11 1L8.5 8.5l.94-2.06 2.06-.94-2.06-.94L8.5 2.5l-.94 2.06-2.06.94zm10 10l.94 2.06.94-2.06 2.06-.94-2.06-.94-.94-2.06-.94 2.06-2.06.94z\"/><path d=\"M17.41 7.96l-1.37-1.37c-.4-.4-.92-.59-1.43-.59-.52 0-1.04.2-1.43.59L10.3 9.45l-7.72 7.72c-.78.78-.78 2.05 0 2.83L4 21.41c.39.39.9.59 1.41.59.51 0 1.02-.2 1.41-.59l7.78-7.78 2.81-2.81c.8-.78.8-2.07 0-2.86zM5.41 20L4 18.59l7.72-7.72 1.47 1.35L5.41 20z\"/>\n",
              "  </svg>\n",
              "      </button>\n",
              "      \n",
              "  <style>\n",
              "    .colab-df-container {\n",
              "      display:flex;\n",
              "      flex-wrap:wrap;\n",
              "      gap: 12px;\n",
              "    }\n",
              "\n",
              "    .colab-df-convert {\n",
              "      background-color: #E8F0FE;\n",
              "      border: none;\n",
              "      border-radius: 50%;\n",
              "      cursor: pointer;\n",
              "      display: none;\n",
              "      fill: #1967D2;\n",
              "      height: 32px;\n",
              "      padding: 0 0 0 0;\n",
              "      width: 32px;\n",
              "    }\n",
              "\n",
              "    .colab-df-convert:hover {\n",
              "      background-color: #E2EBFA;\n",
              "      box-shadow: 0px 1px 2px rgba(60, 64, 67, 0.3), 0px 1px 3px 1px rgba(60, 64, 67, 0.15);\n",
              "      fill: #174EA6;\n",
              "    }\n",
              "\n",
              "    [theme=dark] .colab-df-convert {\n",
              "      background-color: #3B4455;\n",
              "      fill: #D2E3FC;\n",
              "    }\n",
              "\n",
              "    [theme=dark] .colab-df-convert:hover {\n",
              "      background-color: #434B5C;\n",
              "      box-shadow: 0px 1px 3px 1px rgba(0, 0, 0, 0.15);\n",
              "      filter: drop-shadow(0px 1px 2px rgba(0, 0, 0, 0.3));\n",
              "      fill: #FFFFFF;\n",
              "    }\n",
              "  </style>\n",
              "\n",
              "      <script>\n",
              "        const buttonEl =\n",
              "          document.querySelector('#df-b04d76df-d9a5-4e9f-9084-60aa8a1c3249 button.colab-df-convert');\n",
              "        buttonEl.style.display =\n",
              "          google.colab.kernel.accessAllowed ? 'block' : 'none';\n",
              "\n",
              "        async function convertToInteractive(key) {\n",
              "          const element = document.querySelector('#df-b04d76df-d9a5-4e9f-9084-60aa8a1c3249');\n",
              "          const dataTable =\n",
              "            await google.colab.kernel.invokeFunction('convertToInteractive',\n",
              "                                                     [key], {});\n",
              "          if (!dataTable) return;\n",
              "\n",
              "          const docLinkHtml = 'Like what you see? Visit the ' +\n",
              "            '<a target=\"_blank\" href=https://colab.research.google.com/notebooks/data_table.ipynb>data table notebook</a>'\n",
              "            + ' to learn more about interactive tables.';\n",
              "          element.innerHTML = '';\n",
              "          dataTable['output_type'] = 'display_data';\n",
              "          await google.colab.output.renderOutput(dataTable, element);\n",
              "          const docLink = document.createElement('div');\n",
              "          docLink.innerHTML = docLinkHtml;\n",
              "          element.appendChild(docLink);\n",
              "        }\n",
              "      </script>\n",
              "    </div>\n",
              "  </div>\n",
              "  "
            ]
          },
          "metadata": {},
          "execution_count": 93
        }
      ]
    },
    {
      "cell_type": "code",
      "source": [
        "targets = test['close'][window_len:]\n",
        "working_df = df[['close', 'Open', 'Low', 'High', 'Volume_(BTC)', 'Volume_(Currency)', 'Weighted_Price']]\n",
        "train, test, X_train, X_test, y_train, y_test = prepare_data(working_df, window_len)\n",
        "current_model = build_lstm_model(X_train, neurons, dropout, optimizer)\n",
        "current_model.fit(np.asarray(X_train).astype('float32'), np.asarray(y_train).astype('float32'), epochs = epochs, batch_size = batch_size, shuffle = True, callbacks = [early_stopping_callback, lr_scheduler_callback])\n"
      ],
      "metadata": {
        "colab": {
          "base_uri": "https://localhost:8080/"
        },
        "id": "I5s-BU_LQnzz",
        "outputId": "50a271f8-c558-4a16-edcf-5889cfe97f01"
      },
      "execution_count": 94,
      "outputs": [
        {
          "output_type": "stream",
          "name": "stdout",
          "text": [
            "Epoch 1/10\n",
            "250/250 [==============================] - ETA: 0s - loss: 0.0102"
          ]
        },
        {
          "output_type": "stream",
          "name": "stderr",
          "text": [
            "WARNING:tensorflow:Early stopping conditioned on metric `val_loss` which is not available. Available metrics are: loss\n"
          ]
        },
        {
          "output_type": "stream",
          "name": "stdout",
          "text": [
            "\b\b\b\b\b\b\b\b\b\b\b\b\b\b\b\b\b\b\b\b\b\b\b\b\b\b\b\b\b\b\b\b\b\b\b\b\b\b\b\b\b\b\b\b\b\b\b\b\b\b\b\b\b\b\b\b\b\b\b\b\b\b\b\b\b\r250/250 [==============================] - 11s 35ms/step - loss: 0.0102 - lr: 0.0010\n",
            "Epoch 2/10\n",
            "249/250 [============================>.] - ETA: 0s - loss: 0.0022"
          ]
        },
        {
          "output_type": "stream",
          "name": "stderr",
          "text": [
            "WARNING:tensorflow:Early stopping conditioned on metric `val_loss` which is not available. Available metrics are: loss\n"
          ]
        },
        {
          "output_type": "stream",
          "name": "stdout",
          "text": [
            "\b\b\b\b\b\b\b\b\b\b\b\b\b\b\b\b\b\b\b\b\b\b\b\b\b\b\b\b\b\b\b\b\b\b\b\b\b\b\b\b\b\b\b\b\b\b\b\b\b\b\b\b\b\b\b\b\b\b\b\b\b\b\b\b\b\r250/250 [==============================] - 9s 34ms/step - loss: 0.0022 - lr: 0.0010\n",
            "Epoch 3/10\n",
            "249/250 [============================>.] - ETA: 0s - loss: 8.9509e-04"
          ]
        },
        {
          "output_type": "stream",
          "name": "stderr",
          "text": [
            "WARNING:tensorflow:Early stopping conditioned on metric `val_loss` which is not available. Available metrics are: loss\n"
          ]
        },
        {
          "output_type": "stream",
          "name": "stdout",
          "text": [
            "\b\b\b\b\b\b\b\b\b\b\b\b\b\b\b\b\b\b\b\b\b\b\b\b\b\b\b\b\b\b\b\b\b\b\b\b\b\b\b\b\b\b\b\b\b\b\b\b\b\b\b\b\b\b\b\b\b\b\b\b\b\b\b\b\b\b\b\b\b\r250/250 [==============================] - 7s 30ms/step - loss: 8.9399e-04 - lr: 0.0010\n",
            "Epoch 4/10\n",
            "250/250 [==============================] - ETA: 0s - loss: 5.0482e-04"
          ]
        },
        {
          "output_type": "stream",
          "name": "stderr",
          "text": [
            "WARNING:tensorflow:Early stopping conditioned on metric `val_loss` which is not available. Available metrics are: loss\n"
          ]
        },
        {
          "output_type": "stream",
          "name": "stdout",
          "text": [
            "\b\b\b\b\b\b\b\b\b\b\b\b\b\b\b\b\b\b\b\b\b\b\b\b\b\b\b\b\b\b\b\b\b\b\b\b\b\b\b\b\b\b\b\b\b\b\b\b\b\b\b\b\b\b\b\b\b\b\b\b\b\b\b\b\b\b\b\b\b\r250/250 [==============================] - 9s 34ms/step - loss: 5.0482e-04 - lr: 0.0010\n",
            "Epoch 5/10\n",
            "250/250 [==============================] - ETA: 0s - loss: 4.0012e-04"
          ]
        },
        {
          "output_type": "stream",
          "name": "stderr",
          "text": [
            "WARNING:tensorflow:Early stopping conditioned on metric `val_loss` which is not available. Available metrics are: loss\n"
          ]
        },
        {
          "output_type": "stream",
          "name": "stdout",
          "text": [
            "\b\b\b\b\b\b\b\b\b\b\b\b\b\b\b\b\b\b\b\b\b\b\b\b\b\b\b\b\b\b\b\b\b\b\b\b\b\b\b\b\b\b\b\b\b\b\b\b\b\b\b\b\b\b\b\b\b\b\b\b\b\b\b\b\b\b\b\b\b\r250/250 [==============================] - 10s 40ms/step - loss: 4.0012e-04 - lr: 0.0010\n",
            "Epoch 6/10\n",
            "250/250 [==============================] - ETA: 0s - loss: 3.3071e-04"
          ]
        },
        {
          "output_type": "stream",
          "name": "stderr",
          "text": [
            "WARNING:tensorflow:Early stopping conditioned on metric `val_loss` which is not available. Available metrics are: loss\n"
          ]
        },
        {
          "output_type": "stream",
          "name": "stdout",
          "text": [
            "\b\b\b\b\b\b\b\b\b\b\b\b\b\b\b\b\b\b\b\b\b\b\b\b\b\b\b\b\b\b\b\b\b\b\b\b\b\b\b\b\b\b\b\b\b\b\b\b\b\b\b\b\b\b\b\b\b\b\b\b\b\b\b\b\b\b\b\b\b\r250/250 [==============================] - 9s 37ms/step - loss: 3.3071e-04 - lr: 0.0010\n",
            "Epoch 7/10\n",
            "249/250 [============================>.] - ETA: 0s - loss: 3.0968e-04"
          ]
        },
        {
          "output_type": "stream",
          "name": "stderr",
          "text": [
            "WARNING:tensorflow:Early stopping conditioned on metric `val_loss` which is not available. Available metrics are: loss\n"
          ]
        },
        {
          "output_type": "stream",
          "name": "stdout",
          "text": [
            "\b\b\b\b\b\b\b\b\b\b\b\b\b\b\b\b\b\b\b\b\b\b\b\b\b\b\b\b\b\b\b\b\b\b\b\b\b\b\b\b\b\b\b\b\b\b\b\b\b\b\b\b\b\b\b\b\b\b\b\b\b\b\b\b\b\b\b\b\b\r250/250 [==============================] - 9s 34ms/step - loss: 3.0912e-04 - lr: 0.0010\n",
            "Epoch 8/10\n",
            "249/250 [============================>.] - ETA: 0s - loss: 2.7495e-04"
          ]
        },
        {
          "output_type": "stream",
          "name": "stderr",
          "text": [
            "WARNING:tensorflow:Early stopping conditioned on metric `val_loss` which is not available. Available metrics are: loss\n"
          ]
        },
        {
          "output_type": "stream",
          "name": "stdout",
          "text": [
            "\b\b\b\b\b\b\b\b\b\b\b\b\b\b\b\b\b\b\b\b\b\b\b\b\b\b\b\b\b\b\b\b\b\b\b\b\b\b\b\b\b\b\b\b\b\b\b\b\b\b\b\b\b\b\b\b\b\b\b\b\b\b\b\b\b\b\b\b\b\r250/250 [==============================] - 8s 34ms/step - loss: 2.7437e-04 - lr: 0.0010\n",
            "Epoch 9/10\n",
            "249/250 [============================>.] - ETA: 0s - loss: 2.6083e-04"
          ]
        },
        {
          "output_type": "stream",
          "name": "stderr",
          "text": [
            "WARNING:tensorflow:Early stopping conditioned on metric `val_loss` which is not available. Available metrics are: loss\n"
          ]
        },
        {
          "output_type": "stream",
          "name": "stdout",
          "text": [
            "\b\b\b\b\b\b\b\b\b\b\b\b\b\b\b\b\b\b\b\b\b\b\b\b\b\b\b\b\b\b\b\b\b\b\b\b\b\b\b\b\b\b\b\b\b\b\b\b\b\b\b\b\b\b\b\b\b\b\b\b\b\b\b\b\b\b\b\b\b\r250/250 [==============================] - 8s 30ms/step - loss: 2.6026e-04 - lr: 0.0010\n",
            "Epoch 10/10\n",
            "249/250 [============================>.] - ETA: 0s - loss: 2.6935e-04"
          ]
        },
        {
          "output_type": "stream",
          "name": "stderr",
          "text": [
            "WARNING:tensorflow:Early stopping conditioned on metric `val_loss` which is not available. Available metrics are: loss\n"
          ]
        },
        {
          "output_type": "stream",
          "name": "stdout",
          "text": [
            "\b\b\b\b\b\b\b\b\b\b\b\b\b\b\b\b\b\b\b\b\b\b\b\b\b\b\b\b\b\b\b\b\b\b\b\b\b\b\b\b\b\b\b\b\b\b\b\b\b\b\b\b\b\b\b\b\b\b\b\b\b\b\b\b\b\b\b\b\b\r250/250 [==============================] - 9s 34ms/step - loss: 2.6915e-04 - lr: 0.0010\n"
          ]
        },
        {
          "output_type": "execute_result",
          "data": {
            "text/plain": [
              "<keras.callbacks.History at 0x7f313403ec50>"
            ]
          },
          "metadata": {},
          "execution_count": 94
        }
      ]
    },
    {
      "cell_type": "code",
      "source": [
        "preds = current_model.predict(X_test).squeeze()\n",
        "print(' MSE:', mean_squared_error(preds, y_test))\n",
        "preds = test['close'].values[window_len:] * (preds + 1)\n",
        "preds = pd.Series(index = targets.index, data = preds)\n",
        "plot_result(targets.values, {'price': preds.values})"
      ],
      "metadata": {
        "colab": {
          "base_uri": "https://localhost:8080/",
          "height": 635
        },
        "id": "NU63edjAUYP9",
        "outputId": "b3f4beac-0f7c-456b-e1a4-f7e76fc957ca"
      },
      "execution_count": 95,
      "outputs": [
        {
          "output_type": "stream",
          "name": "stdout",
          "text": [
            "63/63 [==============================] - 1s 10ms/step\n",
            " MSE: 0.00022946680827523673\n"
          ]
        },
        {
          "output_type": "display_data",
          "data": {
            "text/plain": [
              "<Figure size 1300x700 with 1 Axes>"
            ],
            "image/png": "[encoded data removed]"
          },
          "metadata": {}
        }
      ]
    }
  ]
}