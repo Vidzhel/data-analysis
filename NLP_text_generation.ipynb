{
  "nbformat": 4,
  "nbformat_minor": 0,
  "metadata": {
    "colab": {
      "provenance": [],
      "authorship_tag": "ABX9TyN5KGrreyoLmBvXmIzvclaI",
      "include_colab_link": true
    },
    "kernelspec": {
      "name": "python3",
      "display_name": "Python 3"
    },
    "language_info": {
      "name": "python"
    }
  },
  "cells": [
    {
      "cell_type": "markdown",
      "metadata": {
        "id": "view-in-github",
        "colab_type": "text"
      },
      "source": [
        "<a href=\"https://colab.research.google.com/github/Vidzhel/data-analysis/blob/main/NLP_text_generation.ipynb\" target=\"_parent\"><img src=\"https://colab.research.google.com/assets/colab-badge.svg\" alt=\"Open In Colab\"/></a>"
      ]
    },
    {
      "cell_type": "markdown",
      "source": [
        "Ресурси\n",
        "- https://blog.paperspace.com/pytorch-101-understanding-graphs-and-automatic-differentiation/"
      ],
      "metadata": {
        "id": "kRPE6uAgJQwk"
      }
    },
    {
      "cell_type": "code",
      "source": [
        "!pip list -v | grep torch"
      ],
      "metadata": {
        "colab": {
          "base_uri": "https://localhost:8080/"
        },
        "id": "v3AkJ6adhNzK",
        "outputId": "4729bd03-a58e-4dee-e426-7b74ee3bd944"
      },
      "execution_count": 58,
      "outputs": [
        {
          "output_type": "stream",
          "name": "stdout",
          "text": [
            "torch                         1.13.1+cu116           /usr/local/lib/python3.8/dist-packages pip\n",
            "torchaudio                    0.13.1+cu116           /usr/local/lib/python3.8/dist-packages pip\n",
            "torchsummary                  1.5.1                  /usr/local/lib/python3.8/dist-packages pip\n",
            "torchtext                     0.14.1                 /usr/local/lib/python3.8/dist-packages pip\n",
            "torchvision                   0.14.1+cu116           /usr/local/lib/python3.8/dist-packages pip\n"
          ]
        }
      ]
    },
    {
      "cell_type": "code",
      "execution_count": 2,
      "metadata": {
        "id": "RWxXuM6E9rld"
      },
      "outputs": [],
      "source": [
        "import requests\n",
        "from bs4 import BeautifulSoup\n",
        "import re\n",
        "import random\n",
        "import torch\n",
        "import torch.nn as nn\n",
        "import torch.optim as optim\n",
        "from torch.utils.data import Dataset, DataLoader\n",
        "from collections import Counter\n",
        "import nltk\n",
        "\n",
        "# Завантажуємо файл Енеїди Котляревського\n",
        "url = 'https://www.ukrlib.com.ua/books/getfile.php?tid=1052&type=6'\n",
        "response = requests.get(url)"
      ]
    },
    {
      "cell_type": "markdown",
      "source": [
        "Парсинг html файлу та виокремлення тексту, видалення тегів, коментарів, цифр та інших символів що не відносяться до букв українського алфавіту. Токенізація тексту."
      ],
      "metadata": {
        "id": "rnJe3aLOAxhb"
      }
    },
    {
      "cell_type": "code",
      "source": [
        "soup = BeautifulSoup(response.content, 'html.parser')\n",
        "poem_text = soup.body.get_text()\n",
        "\n",
        "# Remove all tags from the text\n",
        "poem_text = re.sub(r'<.*?>', '', poem_text)\n",
        "\n",
        "# Remove all comments that start after 'КОМЕНТАР ДО'\n",
        "poem_text = poem_text.split('КОМЕНТАР ДО', 1)[0]\n",
        "\n",
        "# Tokenize the text\n",
        "poem_text=re.sub(r\"\"\"[0-9]\"\"\", r\" \", poem_text)\n",
        "poem_text=re.sub(r\"\"\"[^А-ЩЬЮЯҐЄІЇа-щьюяґєії'\\n]\"\"\", ' ', poem_text)\n",
        "rows=poem_text.lower().split(\"\\n\")\n",
        "rows=[row for row in rows if row]\n",
        "rows_words = [[word for word in row.split(\" \") if word] for row in rows]\n",
        "words = [word for words in rows_words for word in words if word]"
      ],
      "metadata": {
        "id": "t4CxLeD9vbzO"
      },
      "execution_count": 61,
      "outputs": []
    },
    {
      "cell_type": "markdown",
      "source": [
        "Частотний аналіз н-грам тексту (цікаво які слова найчастіше зустрічаються)"
      ],
      "metadata": {
        "id": "uAgtB9ydBeWt"
      }
    },
    {
      "cell_type": "code",
      "source": [
        "!pip install pymorphy2\n",
        "!pip install pymorphy2-dicts-uk\n",
        "\n",
        "import pandas as pd\n",
        "import pymorphy2"
      ],
      "metadata": {
        "colab": {
          "base_uri": "https://localhost:8080/"
        },
        "id": "sjjaFcnczxQp",
        "outputId": "3f84ff5e-be50-4d32-aac0-ef4c2855e311"
      },
      "execution_count": 20,
      "outputs": [
        {
          "output_type": "stream",
          "name": "stdout",
          "text": [
            "Looking in indexes: https://pypi.org/simple, https://us-python.pkg.dev/colab-wheels/public/simple/\n",
            "Requirement already satisfied: pymorphy2 in /usr/local/lib/python3.8/dist-packages (0.9.1)\n",
            "Requirement already satisfied: dawg-python>=0.7.1 in /usr/local/lib/python3.8/dist-packages (from pymorphy2) (0.7.2)\n",
            "Requirement already satisfied: pymorphy2-dicts-ru<3.0,>=2.4 in /usr/local/lib/python3.8/dist-packages (from pymorphy2) (2.4.417127.4579844)\n",
            "Requirement already satisfied: docopt>=0.6 in /usr/local/lib/python3.8/dist-packages (from pymorphy2) (0.6.2)\n",
            "Looking in indexes: https://pypi.org/simple, https://us-python.pkg.dev/colab-wheels/public/simple/\n",
            "Collecting pymorphy2-dicts-uk\n",
            "  Downloading pymorphy2_dicts_uk-2.4.1.1.1460299261-py2.py3-none-any.whl (5.0 MB)\n",
            "\u001b[2K     \u001b[90m━━━━━━━━━━━━━━━━━━━━━━━━━━━━━━━━━━━━━━━━\u001b[0m \u001b[32m5.0/5.0 MB\u001b[0m \u001b[31m61.9 MB/s\u001b[0m eta \u001b[36m0:00:00\u001b[0m\n",
            "\u001b[?25hInstalling collected packages: pymorphy2-dicts-uk\n",
            "Successfully installed pymorphy2-dicts-uk-2.4.1.1.1460299261\n"
          ]
        }
      ]
    },
    {
      "cell_type": "code",
      "source": [
        "stop_words = \"з, у, як, що, тут, щоб, так, то, по, та, а, або, аби, аж, але, аналогічно, б, багато, без, більш, більше, бо, буває, було, бути, в, вам, вас, весь, вже, від, він, вона, вони, все, всі, всіх, вся, втім, г, геть, говорив, говорить, д, да, давно, далеко, дарма, де, де-не-де, дехто, дещо, дійсно, для, до, довго, доводиться, досить, доцільно, дуже, е, є, ж, життя, за, звідки, звідси, звісно, здається, зі, знову, зовсім, і, із, іноді, ї, її, їм, їх, їхній, їхня, їхнє, й, к, каже, кілька, коли, колись, кому, конкретно, краще, крім, куди, ледве, ледь, лише, м, має, майже, мало, мене, мені, менш, ми, мимоволі, минулого, минулому, міг, між, мій, мільйонів, мною, могти, моє, мої, може, можливо, море, моя, на, навіть, навіщо, навіщось, над, найбільш, нам, нами, нарешті, нас, наш, наша, наше, наші, не, нею, ні, ніби, ніж, ніякий, нічого, ну, об, обоє, от, отже, оце, оцей, оцю, особливо, особливості, особливою, ось, перед, перш, під, підсумовуючи, після, поки, пора, порівняно, поряд, порядку, початку, по-друге, по-перше, правда, право, прекрасно, при, причому, про, просто, проте, після, ради, раніше, раз, разом, років, року, році, розмірковує, рік, с, сам, сама, саме, самим, самими, самі, самого, самому, себе, собі\"\n",
        "stop_words = set(stop_words.split(\", \"))\n",
        "morph = pymorphy2.MorphAnalyzer(lang=\"uk\")\n",
        "\n",
        "series = pd.Series(words)\n",
        "series = [s for s in series if s not in stop_words]\n",
        "series = [morph.parse(s)[0].normal_form for s in series]\n",
        "print ('Кількість символів: ',len(series))\n",
        "series=nltk.ngrams(series,1)\n",
        "series=nltk.FreqDist(series)\n",
        "print('Кількість токенів: ', series.N())\n",
        "print('Кількість унікальних токенів: ', series.B())\n",
        "print('Найбільш уживані токени: ', series.most_common(20))\n",
        "series.plot(20, cumulative = True)"
      ],
      "metadata": {
        "colab": {
          "base_uri": "https://localhost:8080/",
          "height": 436
        },
        "id": "Lp9AbeMEwgcx",
        "outputId": "ec5f21e9-2a2b-4b5f-b2fa-5f0f7302a26d"
      },
      "execution_count": 62,
      "outputs": [
        {
          "output_type": "stream",
          "name": "stdout",
          "text": [
            "Кількість символів:  22862\n",
            "Кількість токенів:  22862\n",
            "Кількість унікальних токенів:  7634\n",
            "Найбільш уживані токени:  [(('еней',), 350), (('бути',), 282), (('ти',), 194), (('я',), 187), (('турна',), 151), (('ода',), 150), (('свій',), 134), (('сей',), 126), (('хто',), 120), (('мов',), 118), (('там',), 110), (('дати',), 102), (('він',), 99), (('той',), 98), (('йога',), 95), (('сказати',), 93), (('знати',), 91), (('який',), 80), (('весь',), 79), (('тілько',), 76)]\n"
          ]
        },
        {
          "output_type": "display_data",
          "data": {
            "text/plain": [
              "<Figure size 432x288 with 1 Axes>"
            ],
            "image/png": "[encoded data removed]"
          },
          "metadata": {
            "needs_background": "light"
          }
        },
        {
          "output_type": "execute_result",
          "data": {
            "text/plain": [
              "<AxesSubplot:xlabel='Samples', ylabel='Cumulative Counts'>"
            ]
          },
          "metadata": {},
          "execution_count": 62
        }
      ]
    },
    {
      "cell_type": "markdown",
      "source": [
        "Будуємо декількашарову модель нейронної мережі на основі бібліотеки PyTorch, головна задача якої отримати на вхід послідовність слів (токенів) та обрати одне наступне з відомих мережі. Основними шарами моделі є шари LSTM (Long short-term memor) - модифікована версія RNN, що на відміну від шарів інших видів (звичайні чи convolutional) генерують результат опираючись також на попередньо отримані дані (попередні слова в речені, попередні кадри у відео). Шари Embedding та Linear трансформують вхідні та вихідні дані відповідно."
      ],
      "metadata": {
        "id": "3owAKO6ECPr_"
      }
    },
    {
      "cell_type": "code",
      "source": [
        "# Define the PyTorch dataset\n",
        "class LanguageModelDataset(torch.utils.data.Dataset):\n",
        "    def __init__(\n",
        "        self,\n",
        "        words,\n",
        "        sequence_length,\n",
        "    ):\n",
        "        self.sequence_length = sequence_length\n",
        "        self.words = words\n",
        "        self.uniq_words = self.get_uniq_words()\n",
        "\n",
        "        self.index_to_word = {index: word for index, word in enumerate(self.uniq_words)}\n",
        "        self.word_to_index = {word: index for index, word in enumerate(self.uniq_words)}\n",
        "\n",
        "        self.words_indexes = [self.word_to_index[w] for w in self.words]\n",
        "\n",
        "    def get_uniq_words(self):\n",
        "        word_counts = Counter(self.words)\n",
        "        return sorted(word_counts, key=word_counts.get, reverse=True)\n",
        "\n",
        "    def __len__(self):\n",
        "        return len(self.words_indexes) - self.sequence_length\n",
        "\n",
        "    def __getitem__(self, index):\n",
        "        return (\n",
        "            torch.tensor(self.words_indexes[index:index+self.sequence_length]),\n",
        "            torch.tensor(self.words_indexes[index+1:index+self.sequence_length+1]),\n",
        "        )\n",
        "\n",
        "\n",
        "# Define the LSTM-based language model\n",
        "class LanguageModel(nn.Module):\n",
        "    def __init__(self, vocab_size):\n",
        "        super(LanguageModel, self).__init__()\n",
        "        self.lstm_size = 128\n",
        "        self.embedding_dim = 128\n",
        "        self.num_layers = 3\n",
        "\n",
        "        self.embedding = nn.Embedding(\n",
        "            num_embeddings=vocab_size,\n",
        "            embedding_dim=self.embedding_dim,\n",
        "        )\n",
        "        self.lstm = nn.LSTM(\n",
        "            input_size=self.lstm_size,\n",
        "            hidden_size=self.lstm_size,\n",
        "            num_layers=self.num_layers,\n",
        "            dropout=0.2,\n",
        "        )\n",
        "        self.fc = nn.Linear(self.lstm_size, vocab_size)\n",
        "\n",
        "    def forward(self, x, prev_state):\n",
        "        embed = self.embedding(x)\n",
        "        output, state = self.lstm(embed, prev_state)\n",
        "        logits = self.fc(output)\n",
        "        return logits, state\n",
        "\n",
        "    def init_state(self, sequence_length):\n",
        "        return (torch.zeros(self.num_layers, sequence_length, self.lstm_size),\n",
        "                torch.zeros(self.num_layers, sequence_length, self.lstm_size))\n",
        "\n",
        "\n",
        "# Set the hyperparameters\n",
        "sequence_length = 20\n",
        "learning_rate = 0.1\n",
        "batch_size = 2\n",
        "n_epochs = 10\n",
        "\n",
        "words = words[:2500]\n",
        "# Create the PyTorch dataset and rows_words loader\n",
        "dataset = LanguageModelDataset(words, sequence_length)\n",
        "data_loader = DataLoader(dataset, batch_size=batch_size, shuffle=True)\n",
        "\n",
        "# Create the PyTorch model and optimizer\n",
        "model = LanguageModel(len(dataset.uniq_words))\n",
        "optimizer = optim.Adam(model.parameters(), lr=learning_rate)\n",
        "criterion = nn.CrossEntropyLoss()"
      ],
      "metadata": {
        "id": "Ne-9PTTET1xh"
      },
      "execution_count": 50,
      "outputs": []
    },
    {
      "cell_type": "markdown",
      "source": [
        "Процес навчання відбувається шляхом виокремлення послідовностей слів з нашого набору тексту по дві за раз, перша буде даватися як вхідний параметр, другий щоб порівняти з обраними нейронною мережею. Очікувані та отрмані результати будуть порівнюватися з використанням функції, в цьому випадку CrossEntropyLoss, значення якої оптимізатор буде намагатися мінімізувати шляхом визначення градієнту, оберненного поширення (backward propagation) похідної та коректування вагів. Параметр learning_rate використовується як коефіцієнт коректування вагів (по суті крок кроку в пошуках мінімума функції). Чим він більший, тим швидше буде відбуватися зміна, однак є небезпека пропустити мінімум, чи менше тим довше та точніше тренування, але є ризик перенавчання моделі. Навчання складається з певної кількості епох - повторних проходів по начальним даним.\n",
        "\n",
        "Для роботи моделі з словами, вони кодуються (будується словник), простіше кажучи, з усього набору слів відкидаються повтори, індекси слів і будуть їх кодом.\n",
        "\n",
        "Для навчання використовуються лише 2500 перших слів з більше 30 000 доступних через довгий час навчання. Як додаткове завдання, в кого є доступ до cuda, можна трішки модифікувати та запустити алгоритм на відеокарті. "
      ],
      "metadata": {
        "id": "a0qJWx8oGr8W"
      }
    },
    {
      "cell_type": "code",
      "source": [
        "# Train the model\n",
        "model.train()\n",
        "\n",
        "for epoch in range(n_epochs):\n",
        "    state_h, state_c = model.init_state(sequence_length)\n",
        "    loss = None\n",
        "\n",
        "    for batch, (x, y) in enumerate(data_loader):\n",
        "        optimizer.zero_grad()\n",
        "\n",
        "        y_pred, (state_h, state_c) = model(x, (state_h, state_c))\n",
        "        loss = criterion(y_pred.transpose(1, 2), y)\n",
        "\n",
        "        state_h = state_h.detach()\n",
        "        state_c = state_c.detach()\n",
        "\n",
        "        loss.backward()\n",
        "        optimizer.step()\n",
        "\n",
        "    print({ 'epoch': epoch, 'loss': loss.item() })"
      ],
      "metadata": {
        "colab": {
          "base_uri": "https://localhost:8080/"
        },
        "id": "l4GF53tVX9An",
        "outputId": "1480d7a7-afca-464b-97ac-772216ff2629"
      },
      "execution_count": 51,
      "outputs": [
        {
          "output_type": "stream",
          "name": "stdout",
          "text": [
            "{'epoch': 0, 'loss': 6.4794793128967285}\n",
            "{'epoch': 1, 'loss': 8.722543716430664}\n",
            "{'epoch': 2, 'loss': 8.499884605407715}\n",
            "{'epoch': 3, 'loss': 7.188836574554443}\n",
            "{'epoch': 4, 'loss': 7.6822190284729}\n",
            "{'epoch': 5, 'loss': 6.976107597351074}\n",
            "{'epoch': 6, 'loss': 8.26357650756836}\n",
            "{'epoch': 7, 'loss': 8.551206588745117}\n",
            "{'epoch': 8, 'loss': 7.585450172424316}\n",
            "{'epoch': 9, 'loss': 8.450400352478027}\n"
          ]
        }
      ]
    },
    {
      "cell_type": "markdown",
      "source": [
        "Для перевірки, використовуємо речення з уже відомих слів. Результат буває цікавим, хоча рідко має сенс"
      ],
      "metadata": {
        "id": "MaNKCQ1jMFF0"
      }
    },
    {
      "cell_type": "code",
      "source": [
        "import numpy as np\n",
        "\n",
        "def predict(dataset, model, text, next_words=10):\n",
        "    model.eval()\n",
        "\n",
        "    words = text.split(' ')\n",
        "    state_h, state_c = model.init_state(len(words))\n",
        "\n",
        "    for i in range(0, next_words):\n",
        "        x = torch.tensor([[dataset.word_to_index[w] for w in words[i:]]])\n",
        "        y_pred, (state_h, state_c) = model(x, (state_h, state_c))\n",
        "\n",
        "        last_word_logits = y_pred[0][-1]\n",
        "        p = torch.nn.functional.softmax(last_word_logits, dim=0).detach().numpy()\n",
        "        word_index = np.random.choice(len(last_word_logits), p=p)\n",
        "        words.append(dataset.index_to_word[word_index])\n",
        "\n",
        "    return words\n",
        "\n",
        "print(\" \".join(predict(dataset, model, text='но гірш за те їй не любився')))"
      ],
      "metadata": {
        "colab": {
          "base_uri": "https://localhost:8080/"
        },
        "id": "eiSjDqcH_TLx",
        "outputId": "aaa23e6a-b132-4141-da88-9a0852edf515"
      },
      "execution_count": 60,
      "outputs": [
        {
          "output_type": "stream",
          "name": "stdout",
          "text": [
            "но гірш за те їй не любився не плавати ти багацько причепурилась тута берега звелів помилуй еней\n"
          ]
        }
      ]
    }
  ]
}